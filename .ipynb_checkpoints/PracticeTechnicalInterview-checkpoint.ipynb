{
 "cells": [
  {
   "cell_type": "code",
   "execution_count": 3,
   "id": "88225c34-d543-448b-802b-18c956ad16c7",
   "metadata": {},
   "outputs": [
    {
     "name": "stdout",
     "output_type": "stream",
     "text": [
      "    0\n",
      "0   2\n",
      "1   4\n",
      "2   6\n",
      "3   8\n",
      "4  10\n",
      "5  12\n",
      "6  14\n",
      "7  16\n",
      "8  18\n",
      "9  20\n"
     ]
    }
   ],
   "source": [
    "import pandas as pd\n",
    "numbers = pd.DataFrame([2, 4, 6, 8, 10, 12, 14, 16, 18, 20])\n",
    "print(numbers)"
   ]
  },
  {
   "cell_type": "code",
   "execution_count": 8,
   "id": "cb4ab42d-73e2-4c44-823a-34fecfdf0638",
   "metadata": {},
   "outputs": [
    {
     "name": "stdout",
     "output_type": "stream",
     "text": [
      "0    11.0\n",
      "dtype: float64\n"
     ]
    }
   ],
   "source": [
    "print(numbers.mean())"
   ]
  },
  {
   "cell_type": "code",
   "execution_count": 7,
   "id": "e5d8ccc6-35f6-480c-b21d-5985925f926b",
   "metadata": {},
   "outputs": [
    {
     "name": "stdout",
     "output_type": "stream",
     "text": [
      "0    6.055301\n",
      "dtype: float64\n"
     ]
    }
   ],
   "source": [
    "print(numbers.std())"
   ]
  },
  {
   "cell_type": "code",
   "execution_count": 13,
   "id": "37a55a7a-7b20-4f23-9a59-07c360b8fd4b",
   "metadata": {},
   "outputs": [
    {
     "name": "stdout",
     "output_type": "stream",
     "text": [
      "   0\n",
      "a  1\n",
      "b  2\n",
      "<class 'pandas.core.frame.DataFrame'>\n"
     ]
    }
   ],
   "source": [
    "# col1 & col 1... 2 rows\n",
    "new_df = pd.DataFrame([1, 2], ['a', 'b'])\n",
    "print(new_df)\n",
    "print(type(new_df))"
   ]
  },
  {
   "cell_type": "code",
   "execution_count": 16,
   "id": "f9369188-7120-4151-9c46-0b478b8801b2",
   "metadata": {},
   "outputs": [
    {
     "name": "stdout",
     "output_type": "stream",
     "text": [
      "a    1\n",
      "b    2\n",
      "Name: 0, dtype: int64\n",
      "   0\n",
      "a  1\n",
      "b  2\n",
      "<class 'pandas.core.series.Series'>\n",
      "<class 'pandas.core.frame.DataFrame'>\n",
      "(2,)\n",
      "(2, 1)\n"
     ]
    }
   ],
   "source": [
    "print(new_df[0])\n",
    "print(new_df[[0]])\n",
    "print(type(new_df[0]))\n",
    "print(type(new_df[[0]]))\n",
    "print(new_df[0].shape)\n",
    "print(new_df[[0]].shape)"
   ]
  },
  {
   "cell_type": "code",
   "execution_count": null,
   "id": "a87d2131-4ec5-42ea-ab53-4eabbdc07219",
   "metadata": {},
   "outputs": [],
   "source": [
    "# \n",
    "# cross validationresearch topics\n",
    "#=====================================\n",
    "# Predictive analysis\n",
    "# selection bias\n",
    "# show how consistent our model is\n",
    "# how to tell overfitting - difference between training set & test set.\n",
    "# under fitting - don't have enough data to constrain the problem\n",
    "#"
   ]
  }
 ],
 "metadata": {
  "kernelspec": {
   "display_name": "Python 3 (ipykernel)",
   "language": "python",
   "name": "python3"
  },
  "language_info": {
   "codemirror_mode": {
    "name": "ipython",
    "version": 3
   },
   "file_extension": ".py",
   "mimetype": "text/x-python",
   "name": "python",
   "nbconvert_exporter": "python",
   "pygments_lexer": "ipython3",
   "version": "3.10.9"
  }
 },
 "nbformat": 4,
 "nbformat_minor": 5
}
