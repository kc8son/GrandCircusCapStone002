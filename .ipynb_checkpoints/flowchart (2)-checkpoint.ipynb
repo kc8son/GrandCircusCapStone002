{
 "cells": [
  {
   "cell_type": "markdown",
   "id": "ff63fc03",
   "metadata": {},
   "source": [
    "# Grand Circus Capstrone Project 002\n",
    "### Andrew & Joe's Data Analysis\n",
    "IMDB MOVIES/SHOWS REPORT\n",
    "\n",
    "Files available:\n",
    "- name.basics.tsv\n",
    "- title.akas.tsv\n",
    "- title.basics.tsv\n",
    "- title.crew.tsv\n",
    "- title.episode.tsv\n",
    "- title.principals.tsv\n",
    "- title.ratings.tsv"
   ]
  },
  {
   "cell_type": "markdown",
   "id": "9a37cae3",
   "metadata": {},
   "source": [
    "### Inports"
   ]
  },
  {
   "cell_type": "code",
   "execution_count": 1,
   "id": "292bdd46",
   "metadata": {},
   "outputs": [],
   "source": [
    "import pandas as pd\n",
    "import numpy as np\n",
    "import seaborn as sns\n",
    "import matplotlib.pyplot as plt"
   ]
  },
  {
   "cell_type": "markdown",
   "id": "1b116ab5",
   "metadata": {},
   "source": [
    "### Setting up File Location Variables"
   ]
  },
  {
   "cell_type": "code",
   "execution_count": 2,
   "id": "3abd2ada",
   "metadata": {},
   "outputs": [
    {
     "name": "stdout",
     "output_type": "stream",
     "text": [
      "C:\\Users\\j\\Downloads\\Day039Data\\name.basics.tsv\n",
      "C:\\Users\\j\\Downloads\\Day039Data\\title.akas.tsv\n",
      "C:\\Users\\j\\Downloads\\Day039Data\\title.basics.tsv\n",
      "C:\\Users\\j\\Downloads\\Day039Data\\title.crew.tsv\n",
      "C:\\Users\\j\\Downloads\\Day039Data\\title.episode.tsv\n",
      "C:\\Users\\j\\Downloads\\Day039Data\\title.principals.tsv\n",
      "C:\\Users\\j\\Downloads\\Day039Data\\title.ratings.tsv\n"
     ]
    }
   ],
   "source": [
    "#   Set the location of the files.\n",
    "file_location = r\"C:\\Users\\j\\Downloads\\Day039Data\"\n",
    "\n",
    "# Now add the names of the files to the location...\n",
    "file1 = file_location + \"\\\\name.basics.tsv\"\n",
    "file2 = file_location + \"\\\\title.akas.tsv\"\n",
    "file3 = file_location + \"\\\\title.basics.tsv\"\n",
    "file4 = file_location + \"\\\\title.crew.tsv\"\n",
    "file5 = file_location + \"\\\\title.episode.tsv\"\n",
    "file6 = file_location + \"\\\\title.principals.tsv\"\n",
    "file7 = file_location + \"\\\\title.ratings.tsv\"\n",
    "\n",
    "# #   Joe's paths...\n",
    "# file1 = r'C:\\Users\\JMerten\\OneDrive - KNEX\\Downloads\\DA2\\name.basics.tsv/data.tsv'\n",
    "# file2 = r'C:\\Users\\JMerten\\OneDrive - KNEX\\Downloads\\DA2\\title.akas.tsv/data.tsv'\n",
    "# file3 = r'C:\\Users\\JMerten\\OneDrive - KNEX\\Downloads\\DA2\\title.basics.tsv/data.tsv'\n",
    "# file4 = r'C:\\Users\\JMerten\\OneDrive - KNEX\\Downloads\\DA2\\title.crew.tsv/data.tsv'\n",
    "# file5 = r'C:\\Users\\JMerten\\OneDrive - KNEX\\Downloads\\DA2\\title.episode.tsv/data.tsv'\n",
    "# file6 = r'C:\\Users\\JMerten\\OneDrive - KNEX\\Downloads\\DA2\\title.principals.tsv/data.tsv'\n",
    "# file7 = r'C:\\Users\\JMerten\\OneDrive - KNEX\\Downloads\\DA2\\title.ratings.tsv/data.tsv'\n",
    "\n",
    "#   Andrew's paths\n",
    "# file1 = 'name.basics.tsv/data.tsv'\n",
    "# file2 = 'title.akas.tsv/data.tsv'\n",
    "# file3 = 'title.basics.tsv/data.tsv'\n",
    "# file4 = 'title.crew.tsv/data.tsv'\n",
    "# file5 = 'title.episode.tsv/data.tsv'\n",
    "# file6 = 'title.principals.tsv/data.tsv'\n",
    "# file7 = 'title.ratings.tsv/data.tsv'\n",
    "\n",
    "print(file1)\n",
    "print(file2)\n",
    "print(file3)\n",
    "print(file4)\n",
    "print(file5)\n",
    "print(file6)\n",
    "print(file7)\n"
   ]
  },
  {
   "cell_type": "markdown",
   "id": "9cce7573",
   "metadata": {},
   "source": [
    "## Reading in title.basics.tsv and title.ratings.tsv\n",
    "- movies_df = title.basics.tsv = file3\n",
    "- ratings_df = title.ratings.tsv = file7\n",
    "- actors_df = name.basics = file1"
   ]
  },
  {
   "cell_type": "code",
   "execution_count": 3,
   "id": "6fcb63bf",
   "metadata": {},
   "outputs": [
    {
     "name": "stderr",
     "output_type": "stream",
     "text": [
      "C:\\Users\\j\\AppData\\Local\\Temp\\ipykernel_16000\\99725818.py:1: DtypeWarning: Columns (4) have mixed types. Specify dtype option on import or set low_memory=False.\n",
      "  movies_df = pd.read_csv(file3, sep='\\t')\n"
     ]
    }
   ],
   "source": [
    "movies_df = pd.read_csv(file3, sep='\\t')\n",
    "ratings_df = pd.read_csv(file7, sep='\\t')\n",
    "actors_df = pd.read_csv(file1, sep='\\t')"
   ]
  },
  {
   "cell_type": "markdown",
   "id": "a31cb68f",
   "metadata": {},
   "source": [
    "## Filter Movies and Remove Missing Genre Information"
   ]
  },
  {
   "cell_type": "code",
   "execution_count": 4,
   "id": "486662f9",
   "metadata": {},
   "outputs": [],
   "source": [
    "# movies_df = pd.read_csv(file3, sep='\\t')\n",
    "movies_df = movies_df[movies_df['titleType'] == 'movie']  # Filter the DataFrame to include only movies (titleType == 'movie')\n",
    "\n",
    "# Remove rows with missing genre information\n",
    "movies_df = movies_df.dropna(subset=['genres'])\n",
    "\n",
    "\n"
   ]
  },
  {
   "cell_type": "markdown",
   "id": "d1222085",
   "metadata": {},
   "source": [
    "## Count Genres in Movies DataFrame\n"
   ]
  },
  {
   "cell_type": "code",
   "execution_count": 5,
   "id": "dc9866eb",
   "metadata": {},
   "outputs": [],
   "source": [
    "# Create a dictionary to store genre counts\n",
    "genre_counts = {}\n",
    "\n",
    "# Iterate over each row and count the genres\n",
    "for genres in movies_df['genres']:\n",
    "    genre_list = genres.split(',')\n",
    "    for genre in genre_list:\n",
    "        genre_counts[genre] = genre_counts.get(genre, 0) + 1\n"
   ]
  },
  {
   "cell_type": "markdown",
   "id": "3882f2cd",
   "metadata": {},
   "source": [
    "## What are the Most Popular Genres?\n"
   ]
  },
  {
   "cell_type": "code",
   "execution_count": 26,
   "id": "c17a8767",
   "metadata": {},
   "outputs": [
    {
     "name": "stdout",
     "output_type": "stream",
     "text": [
      "The most popular genre is Drama with a count of 234308.\n",
      "{'Romance': 47318, 'Documentary': 122520, 'News': 1446, 'Sport': 7110, '\\\\N': 72148, 'Action': 53896, 'Adventure': 28089, 'Biography': 17263, 'Drama': 234308, 'Fantasy': 15341, 'Comedy': 109216, 'War': 9280, 'Crime': 37236, 'Family': 17671, 'History': 14265, 'Sci-Fi': 13928, 'Thriller': 44733, 'Western': 8153, 'Mystery': 17011, 'Horror': 37010, 'Music': 13628, 'Animation': 9099, 'Musical': 10233, 'Film-Noir': 881, 'Adult': 9243, 'Reality-TV': 515, 'Talk-Show': 175, 'Short': 47, 'Game-Show': 26}\n"
     ]
    }
   ],
   "source": [
    "# Find the genre with the highest count\n",
    "most_popular_genre = max(genre_counts, key=genre_counts.get)\n",
    "count = genre_counts[most_popular_genre]\n",
    "\n",
    "print(f\"The most popular genre is {most_popular_genre} with a count of {count}.\")\n",
    "print(genre_counts)\n"
   ]
  },
  {
   "cell_type": "code",
   "execution_count": 27,
   "id": "49a0d251-2754-4f99-b6f6-38223dbaa1bd",
   "metadata": {},
   "outputs": [
    {
     "data": {
      "image/png": "[encoded data removed]",
      "text/plain": [
       "<Figure size 1200x600 with 1 Axes>"
      ]
     },
     "metadata": {},
     "output_type": "display_data"
    }
   ],
   "source": [
    "keys = list(genre_counts.keys())\n",
    "# get values in the same order as keys, and parse percentage values\n",
    "vals = [genre_counts[k] for k in keys]\n",
    "\n",
    "plt.figure(figsize=(12, 6))\n",
    "chart = sns.barplot(x=keys, y=vals, palette=sns.color_palette(\"deep\", n_colors=len(keys)))\n",
    "chart.set_xticklabels(chart.get_xticklabels(), rotation=45, horizontalalignment='right')\n",
    "plt.show()"
   ]
  },
  {
   "cell_type": "markdown",
   "id": "9db6e142",
   "metadata": {},
   "source": [
    "## Merge DataFrames\n"
   ]
  },
  {
   "cell_type": "code",
   "execution_count": 7,
   "id": "b8cd1908",
   "metadata": {},
   "outputs": [],
   "source": [
    "# Merge basics_df and ratings_df on the 'tconst' column\n",
    "merged_df = pd.merge(movies_df, ratings_df, on='tconst')\n"
   ]
  },
  {
   "cell_type": "markdown",
   "id": "2b3204a1",
   "metadata": {},
   "source": [
    "## Filter Movies and Remove Missing Information"
   ]
  },
  {
   "cell_type": "code",
   "execution_count": 8,
   "id": "c4b59d17",
   "metadata": {},
   "outputs": [],
   "source": [
    "# Filter the merged DataFrame to include only movies (titleType == 'movie')\n",
    "movies_df = merged_df[merged_df['titleType'] == 'movie']\n",
    "\n",
    "# Remove rows with missing genre or rating information\n",
    "movies_df = movies_df.dropna(subset=['genres', 'averageRating'])\n"
   ]
  },
  {
   "cell_type": "markdown",
   "id": "a9d3a37d",
   "metadata": {},
   "source": [
    "## Calculate Genre Ratings"
   ]
  },
  {
   "cell_type": "code",
   "execution_count": 9,
   "id": "852dc417",
   "metadata": {},
   "outputs": [],
   "source": [
    "# Create a dictionary to store genre ratings\n",
    "genre_ratings = {}\n",
    "\n",
    "# Iterate over each row and calculate the average rating for each genre\n",
    "for index, row in movies_df.iterrows():\n",
    "    genres = row['genres'].split(',')\n",
    "    rating = row['averageRating']\n",
    "    \n",
    "    for genre in genres:\n",
    "        if genre in genre_ratings:\n",
    "            genre_ratings[genre].append(rating)\n",
    "        else:\n",
    "            genre_ratings[genre] = [rating]\n"
   ]
  },
  {
   "cell_type": "markdown",
   "id": "19cf85ad",
   "metadata": {},
   "source": [
    "## Calculate Average Genre Ratings and Find the Highest Rated Genre\n"
   ]
  },
  {
   "cell_type": "code",
   "execution_count": 10,
   "id": "9fbe9a06",
   "metadata": {},
   "outputs": [
    {
     "name": "stdout",
     "output_type": "stream",
     "text": [
      "The highest rated genre is Game-Show with an average rating of 8.9.\n"
     ]
    }
   ],
   "source": [
    "# Calculate the average rating for each genre\n",
    "average_ratings = {genre: sum(ratings) / len(ratings) for genre, ratings in genre_ratings.items()}\n",
    "\n",
    "# Find the genre with the highest average rating\n",
    "highest_rated_genre = max(average_ratings, key=average_ratings.get)\n",
    "average_rating = average_ratings[highest_rated_genre]\n",
    "\n",
    "print(f\"The highest rated genre is {highest_rated_genre} with an average rating of {average_rating}.\")\n"
   ]
  },
  {
   "cell_type": "markdown",
   "id": "93580afc",
   "metadata": {},
   "source": [
    "## Filter Movies and Remove Missing Data\n"
   ]
  },
  {
   "cell_type": "code",
   "execution_count": 11,
   "id": "393f15f9",
   "metadata": {},
   "outputs": [],
   "source": [
    "# Filter the merged DataFrame to include only movies (titleType == 'movie')\n",
    "movies_df = merged_df[merged_df['titleType'] == 'movie']\n",
    "\n",
    "# Remove rows with missing startYear or averageRating information\n",
    "movies_df = movies_df.dropna(subset=['startYear', 'averageRating'])\n"
   ]
  },
  {
   "cell_type": "markdown",
   "id": "cbf82813",
   "metadata": {},
   "source": [
    "## Create a new 'decade' column by rounding down the 'startYear' to the nearest 10\n"
   ]
  },
  {
   "cell_type": "code",
   "execution_count": 12,
   "id": "9353696f",
   "metadata": {},
   "outputs": [],
   "source": [
    "# Convert the 'startYear' column to numeric\n",
    "movies_df['startYear'] = pd.to_numeric(movies_df['startYear'], errors='coerce')\n",
    "\n",
    "# Create a new 'decade' column by rounding down the 'startYear' to the nearest 10\n",
    "movies_df['decade'] = (movies_df['startYear'] // 10) * 10\n"
   ]
  },
  {
   "cell_type": "markdown",
   "id": "6b0912ed",
   "metadata": {},
   "source": [
    "## Group the DataFrame by 'decade' and calculate the average rating\n"
   ]
  },
  {
   "cell_type": "code",
   "execution_count": 13,
   "id": "50e84a6c",
   "metadata": {},
   "outputs": [],
   "source": [
    "average_ratings_by_decade = movies_df.groupby('decade')['averageRating'].mean()\n",
    "decade_rating_df = average_ratings_by_decade.to_frame()"
   ]
  },
  {
   "cell_type": "markdown",
   "id": "8c3de975",
   "metadata": {},
   "source": [
    "## Sort the average ratings in descending order"
   ]
  },
  {
   "cell_type": "markdown",
   "id": "5fbb1734",
   "metadata": {},
   "source": [
    "## Print the average ratings by decade - sorted by decade."
   ]
  },
  {
   "cell_type": "code",
   "execution_count": 14,
   "id": "8cc52edb",
   "metadata": {},
   "outputs": [
    {
     "name": "stdout",
     "output_type": "stream",
     "text": [
      "decade\n",
      "1890.0    4.450000\n",
      "1900.0    4.465060\n",
      "1910.0    5.795373\n",
      "1920.0    6.106548\n",
      "1930.0    6.093511\n",
      "1940.0    6.209465\n",
      "1950.0    6.216173\n",
      "1960.0    6.149112\n",
      "1970.0    5.961352\n",
      "1980.0    6.014528\n",
      "1990.0    6.031436\n",
      "2000.0    6.206385\n",
      "2010.0    6.243354\n",
      "2020.0    6.383182\n",
      "Name: averageRating, dtype: float64\n"
     ]
    }
   ],
   "source": [
    "#   sorted(average_ratings_by_decade.keys())\n",
    "print(average_ratings_by_decade)"
   ]
  },
  {
   "cell_type": "markdown",
   "id": "42ab758d",
   "metadata": {},
   "source": [
    "### Print the average ratings by decade - sorted by rating."
   ]
  },
  {
   "cell_type": "code",
   "execution_count": 15,
   "id": "d9fcb314",
   "metadata": {},
   "outputs": [
    {
     "name": "stdout",
     "output_type": "stream",
     "text": [
      "decade\n",
      "2020.0    6.383182\n",
      "2010.0    6.243354\n",
      "2000.0    6.206385\n",
      "1990.0    6.031436\n",
      "1980.0    6.014528\n",
      "1970.0    5.961352\n",
      "1960.0    6.149112\n",
      "1950.0    6.216173\n",
      "1940.0    6.209465\n",
      "1930.0    6.093511\n",
      "1920.0    6.106548\n",
      "1910.0    5.795373\n",
      "1900.0    4.465060\n",
      "1890.0    4.450000\n",
      "Name: averageRating, dtype: float64\n"
     ]
    }
   ],
   "source": [
    "print(average_ratings_by_decade.sort_index(ascending=False))"
   ]
  },
  {
   "cell_type": "markdown",
   "id": "0e61e31e",
   "metadata": {},
   "source": [
    "### Graph the average ratings by decade - sorted by decade."
   ]
  },
  {
   "cell_type": "code",
   "execution_count": 16,
   "id": "782fc2b3",
   "metadata": {},
   "outputs": [
    {
     "name": "stdout",
     "output_type": "stream",
     "text": [
      "<class 'pandas.core.frame.DataFrame'>\n",
      "        averageRating\n",
      "decade               \n",
      "1890.0       4.450000\n",
      "1900.0       4.465060\n",
      "1910.0       5.795373\n",
      "1920.0       6.106548\n",
      "1930.0       6.093511\n",
      "1940.0       6.209465\n",
      "1950.0       6.216173\n",
      "1960.0       6.149112\n",
      "1970.0       5.961352\n",
      "1980.0       6.014528\n",
      "1990.0       6.031436\n",
      "2000.0       6.206385\n",
      "2010.0       6.243354\n",
      "2020.0       6.383182\n"
     ]
    }
   ],
   "source": [
    "print(type(decade_rating_df))\n",
    "print(decade_rating_df)"
   ]
  },
  {
   "cell_type": "markdown",
   "id": "f2c640cc-59cc-479f-b39a-c6a48be97177",
   "metadata": {},
   "source": [
    "### How did movie ratings change through the decades?"
   ]
  },
  {
   "cell_type": "code",
   "execution_count": 17,
   "id": "a000e399",
   "metadata": {},
   "outputs": [
    {
     "data": {
      "text/plain": [
       "<AxesSubplot: xlabel='decade', ylabel='averageRating'>"
      ]
     },
     "execution_count": 17,
     "metadata": {},
     "output_type": "execute_result"
    },
    {
     "data": {
      "image/png": "[encoded data removed]",
      "text/plain": [
       "<Figure size 640x480 with 1 Axes>"
      ]
     },
     "metadata": {},
     "output_type": "display_data"
    }
   ],
   "source": [
    "sns.lineplot(\n",
    "    average_ratings_by_decade\n",
    ")"
   ]
  },
  {
   "cell_type": "code",
   "execution_count": null,
   "id": "8e670c4d-1c01-43d4-9227-9d274a2584f8",
   "metadata": {},
   "outputs": [],
   "source": []
  },
  {
   "cell_type": "markdown",
   "id": "aa2d5455",
   "metadata": {},
   "source": [
    "### Visualization containing one quantitative and one categorical variable - Average Rating by genre - SETUP"
   ]
  },
  {
   "cell_type": "code",
   "execution_count": 18,
   "id": "801d4d68",
   "metadata": {},
   "outputs": [
    {
     "name": "stdout",
     "output_type": "stream",
     "text": [
      "{'Romance': 6.101201044386466, 'Documentary': 7.230423280423228, 'News': 7.21793313069908, 'Sport': 6.623001402524556, '\\\\N': 6.190131254317589, 'Action': 5.716132666247041, 'Adventure': 5.866273261239547, 'Biography': 6.961319920406795, 'Drama': 6.2512486988761875, 'Fantasy': 5.897194457064985, 'Comedy': 5.910983590612819, 'War': 6.409575340219739, 'Crime': 5.986335109532268, 'Family': 6.215616972273883, 'History': 6.810712524654867, 'Sci-Fi': 5.329512478235644, 'Thriller': 5.603034646572213, 'Western': 5.81935547647291, 'Mystery': 5.858538984263231, 'Horror': 5.003914117423522, 'Music': 6.682187730968262, 'Animation': 6.373674841772148, 'Musical': 6.180018805829807, 'Film-Noir': 6.466211604095564, 'Adult': 5.567387304507812, 'Reality-TV': 6.533962264150944, 'Talk-Show': 6.278571428571428, 'Short': 7.16875, 'Game-Show': 8.9}\n",
      "<class 'dict'>\n"
     ]
    }
   ],
   "source": [
    "print(average_ratings)\n",
    "print(type(average_ratings))"
   ]
  },
  {
   "cell_type": "markdown",
   "id": "21c0f3fb",
   "metadata": {},
   "source": [
    "### Visualization containing one quantitative and one categorical variable - Average Rating by genre"
   ]
  },
  {
   "cell_type": "code",
   "execution_count": 22,
   "id": "88ca7b16-72bc-45ac-8e20-1050f5060c2c",
   "metadata": {},
   "outputs": [],
   "source": [
    "keys = list(average_ratings.keys())\n",
    "# get values in the same order as keys, and parse percentage values\n",
    "vals = [average_ratings[k] for k in keys]\n"
   ]
  },
  {
   "cell_type": "code",
   "execution_count": 23,
   "id": "a365555f",
   "metadata": {},
   "outputs": [
    {
     "data": {
      "image/png": "[encoded data removed]",
      "text/plain": [
       "<Figure size 1200x600 with 1 Axes>"
      ]
     },
     "metadata": {},
     "output_type": "display_data"
    }
   ],
   "source": [
    "plt.figure(figsize=(12, 6))\n",
    "chart = sns.barplot(x=keys, y=vals, palette=sns.color_palette(\"deep\", n_colors=len(keys)))\n",
    "chart.set_xticklabels(chart.get_xticklabels(), rotation=45, horizontalalignment='right')\n",
    "plt.show()"
   ]
  },
  {
   "cell_type": "markdown",
   "id": "d9338a21-7eb0-44c5-b6a0-9a44d4f5ec40",
   "metadata": {},
   "source": [
    "### How many series were there per year over time?"
   ]
  },
  {
   "cell_type": "code",
   "execution_count": 24,
   "id": "9104d2eb-c1cf-4295-80c9-56b235dd17ac",
   "metadata": {},
   "outputs": [
    {
     "name": "stdout",
     "output_type": "stream",
     "text": [
      "       tconst parentTconst seasonNumber episodeNumber\n",
      "0   tt0041951    tt0041038            1             9\n",
      "1   tt0042816    tt0989125            1            17\n",
      "2   tt0042889    tt0989125           \\N            \\N\n",
      "3   tt0043426    tt0040051            3            42\n",
      "4   tt0043631    tt0989125            2            16\n",
      "5   tt0043693    tt0989125            2             8\n",
      "6   tt0043710    tt0989125            3             3\n",
      "7   tt0044093    tt0959862            1             6\n",
      "8   tt0044668    tt0044243            2            16\n",
      "9   tt0044901    tt0989125            3            46\n",
      "10  tt0045519    tt0989125            4            11\n",
      "11  tt0045960    tt0044284            2             3\n",
      "12  tt0046135    tt0989125            4             5\n",
      "13  tt0046150    tt0341798           \\N            \\N\n",
      "14  tt0046855    tt0046643            1             4\n",
      "15  tt0046864    tt0989125            5            20\n",
      "16  tt0047810    tt0914702            3            36\n",
      "17  tt0047852    tt0047745            1            15\n",
      "18  tt0047858    tt0046637            2             9\n",
      "19  tt0047961    tt0989125            6             5\n",
      "       tconst titleType                                       primaryTitle  \\\n",
      "0   tt0000009     movie                                         Miss Jerry   \n",
      "1   tt0000147     movie                      The Corbett-Fitzsimmons Fight   \n",
      "2   tt0000502     movie                                           Bohemios   \n",
      "3   tt0000574     movie                        The Story of the Kelly Gang   \n",
      "4   tt0000591     movie                                   The Prodigal Son   \n",
      "5   tt0000615     movie                                 Robbery Under Arms   \n",
      "6   tt0000630     movie                                             Hamlet   \n",
      "7   tt0000675     movie                                        Don Quijote   \n",
      "8   tt0000679     movie                     The Fairylogue and Radio-Plays   \n",
      "9   tt0000862     movie                                         Faldgruben   \n",
      "10  tt0000886     movie                          Hamlet, Prince of Denmark   \n",
      "11  tt0000941     movie                                     Locura de amor   \n",
      "12  tt0001010     movie  Protección de un convoy de víveres en el puent...   \n",
      "13  tt0001028     movie                                         Salome Mad   \n",
      "14  tt0001038     movie                                 Sherlock Holmes VI   \n",
      "15  tt0001049     movie                                     Gøngehøvdingen   \n",
      "16  tt0001101     movie                         Abraham Lincoln's Clemency   \n",
      "17  tt0001112     movie                                             Amleto   \n",
      "18  tt0001113     movie                                        Amor gitano   \n",
      "19  tt0001115     movie                                      Ansigttyven I   \n",
      "\n",
      "                                        originalTitle isAdult  startYear  \\\n",
      "0                                          Miss Jerry       0     1894.0   \n",
      "1                       The Corbett-Fitzsimmons Fight       0     1897.0   \n",
      "2                                            Bohemios       0     1905.0   \n",
      "3                         The Story of the Kelly Gang       0     1906.0   \n",
      "4                                   L'enfant prodigue       0     1907.0   \n",
      "5                                  Robbery Under Arms       0     1907.0   \n",
      "6                                              Amleto       0     1908.0   \n",
      "7                                         Don Quijote       0     1908.0   \n",
      "8                      The Fairylogue and Radio-Plays       0     1908.0   \n",
      "9                                          Faldgruben       0     1909.0   \n",
      "10                                             Hamlet       0     1910.0   \n",
      "11                                     Locura de amor       0     1909.0   \n",
      "12  Protección de un convoy de víveres en el puent...       0     1909.0   \n",
      "13                                         Salome Mad       0     1909.0   \n",
      "14                                 Sherlock Holmes VI       0     1910.0   \n",
      "15                                     Gøngehøvdingen       0     1909.0   \n",
      "16                         Abraham Lincoln's Clemency       0     1910.0   \n",
      "17                                             Amleto       0     1910.0   \n",
      "18                                        Amor gitano       0     1910.0   \n",
      "19                                      Ansigttyven I       0     1910.0   \n",
      "\n",
      "   endYear runtimeMinutes                      genres  averageRating  \\\n",
      "0       \\N             45                     Romance            5.3   \n",
      "1       \\N            100      Documentary,News,Sport            5.3   \n",
      "2       \\N            100                          \\N            4.1   \n",
      "3       \\N             70  Action,Adventure,Biography            6.0   \n",
      "4       \\N             90                       Drama            4.4   \n",
      "5       \\N             \\N                       Drama            4.3   \n",
      "6       \\N             \\N                       Drama            2.8   \n",
      "7       \\N             \\N                       Drama            4.2   \n",
      "8       \\N            120           Adventure,Fantasy            5.1   \n",
      "9       \\N             \\N                          \\N            4.4   \n",
      "10      \\N             \\N                       Drama            4.7   \n",
      "11      \\N             45                       Drama            4.4   \n",
      "12      \\N             \\N                          \\N            4.2   \n",
      "13      \\N             \\N                      Comedy            4.1   \n",
      "14      \\N             \\N                          \\N            3.7   \n",
      "15      \\N             \\N                   Drama,War            3.5   \n",
      "16      \\N             \\N                          \\N            4.7   \n",
      "17      \\N             \\N                       Drama            3.8   \n",
      "18      \\N             \\N                          \\N            5.1   \n",
      "19      \\N             \\N                       Crime            4.3   \n",
      "\n",
      "    numVotes  decade  \n",
      "0        205  1890.0  \n",
      "1        470  1890.0  \n",
      "2         15  1900.0  \n",
      "3        826  1900.0  \n",
      "4         20  1900.0  \n",
      "5         24  1900.0  \n",
      "6         26  1900.0  \n",
      "7         20  1900.0  \n",
      "8         68  1900.0  \n",
      "9         17  1900.0  \n",
      "10        40  1910.0  \n",
      "11        25  1900.0  \n",
      "12        15  1900.0  \n",
      "13        18  1900.0  \n",
      "14        22  1910.0  \n",
      "15        17  1900.0  \n",
      "16        38  1910.0  \n",
      "17        44  1910.0  \n",
      "18        17  1910.0  \n",
      "19        19  1910.0  \n"
     ]
    }
   ],
   "source": [
    "episode_df = pd.read_csv(file5, sep='\\t')\n",
    "print(episode_df.head(20))\n",
    "print(movies_df.head(20))"
   ]
  },
  {
   "cell_type": "markdown",
   "id": "cf39a728-5937-412a-855d-c278e24db564",
   "metadata": {},
   "source": [
    "### By decade, who was the most popular actor/actress?"
   ]
  },
  {
   "cell_type": "code",
   "execution_count": null,
   "id": "07f58333-61d7-49ab-bc21-5d722b3581e9",
   "metadata": {},
   "outputs": [],
   "source": [
    "#   First read in actors...\n",
    "actors_df = pd.read_csv(file1, sep='\\t')"
   ]
  },
  {
   "cell_type": "code",
   "execution_count": null,
   "id": "4050ee90-51a6-44ac-bedf-6a070d3cb93c",
   "metadata": {},
   "outputs": [],
   "source": [
    "#  Then split the CSV into rows\n",
    "#  df['Seatblocks'].str.split(' ').apply(Series, 1).stack()\n",
    "# actor_movie_df = actors_df['knownForTitles'].str.split(',').apply(axis=1).stack()\n",
    "\n",
    "# actor_movie_df = actors_df['knownForTitles'].apply(str.split(','), axis=1).stack()\n",
    "print(actors_df.head(20))\n",
    "print(pd.__version__)"
   ]
  },
  {
   "cell_type": "code",
   "execution_count": null,
   "id": "4751c185-29f6-49f2-86a5-140eee7f8581",
   "metadata": {},
   "outputs": [],
   "source": [
    " # xref_df = actors_df['knownForTitles'].str.split(',')\n",
    "# actors_df.explode(list(actors_df['knownForTitles'].str.split(',')))\n",
    "# xref_df\n",
    "\n",
    "small_df = actors_df.head(20)\n",
    "xref = list(small_df['knownForTitles'].str.split(','))\n",
    "print(type(xref))"
   ]
  },
  {
   "cell_type": "code",
   "execution_count": null,
   "id": "090406d0-e062-4fc5-b492-6dc0cc348817",
   "metadata": {},
   "outputs": [],
   "source": [
    "# print(xref_df)\n",
    "# xref_df.explode("
   ]
  },
  {
   "cell_type": "code",
   "execution_count": 25,
   "id": "7ce3b7ad-1dbe-40b7-b201-6adceef015e2",
   "metadata": {},
   "outputs": [
    {
     "data": {
      "text/html": [
       "<div>\n",
       "<style scoped>\n",
       "    .dataframe tbody tr th:only-of-type {\n",
       "        vertical-align: middle;\n",
       "    }\n",
       "\n",
       "    .dataframe tbody tr th {\n",
       "        vertical-align: top;\n",
       "    }\n",
       "\n",
       "    .dataframe thead th {\n",
       "        text-align: right;\n",
       "    }\n",
       "</style>\n",
       "<table border=\"1\" class=\"dataframe\">\n",
       "  <thead>\n",
       "    <tr style=\"text-align: right;\">\n",
       "      <th></th>\n",
       "      <th>nconst</th>\n",
       "      <th>primaryName</th>\n",
       "      <th>birthYear</th>\n",
       "      <th>deathYear</th>\n",
       "      <th>primaryProfession</th>\n",
       "      <th>knownForTitles</th>\n",
       "    </tr>\n",
       "  </thead>\n",
       "  <tbody>\n",
       "    <tr>\n",
       "      <th>count</th>\n",
       "      <td>12548289</td>\n",
       "      <td>12548286</td>\n",
       "      <td>12548289</td>\n",
       "      <td>12548289</td>\n",
       "      <td>10120306</td>\n",
       "      <td>12548289</td>\n",
       "    </tr>\n",
       "    <tr>\n",
       "      <th>unique</th>\n",
       "      <td>12548289</td>\n",
       "      <td>9731070</td>\n",
       "      <td>524</td>\n",
       "      <td>465</td>\n",
       "      <td>21379</td>\n",
       "      <td>5399606</td>\n",
       "    </tr>\n",
       "    <tr>\n",
       "      <th>top</th>\n",
       "      <td>nm0000001</td>\n",
       "      <td>Alex</td>\n",
       "      <td>\\N</td>\n",
       "      <td>\\N</td>\n",
       "      <td>actor</td>\n",
       "      <td>\\N</td>\n",
       "    </tr>\n",
       "    <tr>\n",
       "      <th>freq</th>\n",
       "      <td>1</td>\n",
       "      <td>409</td>\n",
       "      <td>11969027</td>\n",
       "      <td>12332810</td>\n",
       "      <td>2293847</td>\n",
       "      <td>1255156</td>\n",
       "    </tr>\n",
       "  </tbody>\n",
       "</table>\n",
       "</div>"
      ],
      "text/plain": [
       "           nconst primaryName birthYear deathYear primaryProfession  \\\n",
       "count    12548289    12548286  12548289  12548289          10120306   \n",
       "unique   12548289     9731070       524       465             21379   \n",
       "top     nm0000001        Alex        \\N        \\N             actor   \n",
       "freq            1         409  11969027  12332810           2293847   \n",
       "\n",
       "       knownForTitles  \n",
       "count        12548289  \n",
       "unique        5399606  \n",
       "top                \\N  \n",
       "freq          1255156  "
      ]
     },
     "execution_count": 25,
     "metadata": {},
     "output_type": "execute_result"
    }
   ],
   "source": [
    "actors_df.describe()"
   ]
  },
  {
   "cell_type": "markdown",
   "id": "6876b07c",
   "metadata": {},
   "source": [
    "# Next Steps\n",
    "1. When running pd.read_csv, use the file name variable instead of hard coded name.(Andrew) (Finished)\n",
    "1. Rename variables for dataframes (_df for dataframes) (Andrew) (Finished)\n",
    "1. For decades, print it out a second time by decade. (Joe)\n",
    "1. for decades, lets print out a line graph by decade.(Joe)\n",
    "1. before each block of code, add a markdown to explain what is happening.(Andrew) (Finished)\n",
    "1. average rating by actor(Joe Optional)\n",
    "1. Idenitfy the three different visualizations we need. (Andrew)\n",
    "   - Visualization containing two quantitative variables (Joe) (Line Graph-rating by decade)\n",
    "   - Visualization containing one quantitative and one categorical variable (Joe) (Bar Graph-Count by genre/Rating by genre)\n",
    "   - Visualization containing distribution information of quantitative variable(s) (Joe) (By decade, who was the most popular (i.e. busiest) actor - by count of movies.)\n",
    "1. We are only using two CSV files currently and we need to be using three\n",
    "    - Find out how to make average rating by actor work\n",
    "    - If we cannot, discuss new tables we want to compare.\n",
    "1. Power BI dashboard (Optional) (Andrew)\n"
   ]
  },
  {
   "cell_type": "code",
   "execution_count": null,
   "id": "47f6e61a",
   "metadata": {},
   "outputs": [],
   "source": []
  }
 ],
 "metadata": {
  "kernelspec": {
   "display_name": "Python 3 (ipykernel)",
   "language": "python",
   "name": "python3"
  },
  "language_info": {
   "codemirror_mode": {
    "name": "ipython",
    "version": 3
   },
   "file_extension": ".py",
   "mimetype": "text/x-python",
   "name": "python",
   "nbconvert_exporter": "python",
   "pygments_lexer": "ipython3",
   "version": "3.10.9"
  }
 },
 "nbformat": 4,
 "nbformat_minor": 5
}
