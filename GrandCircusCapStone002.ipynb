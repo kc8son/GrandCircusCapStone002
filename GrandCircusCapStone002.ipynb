{
 "cells": [
  {
   "cell_type": "markdown",
   "id": "49cc9671-f2f6-406f-838a-a1b19766bfbe",
   "metadata": {},
   "source": [
    "# Grand Circus Capstrone Project 002 - Andrew & Joe's Data Analysis\n",
    "IMDB MOVIES/SHOWS REPORT\n",
    "\n",
    "Files availabke:\n",
    "- name.basics.tsv\n",
    "- title.akas.tsv\n",
    "- title.basics.tsv\n",
    "- title.crew.tsv\n",
    "- title.episode.tsv\n",
    "- title.principals.tsv\n",
    "- title.ratings.tsv\n"
   ]
  },
  {
   "cell_type": "code",
   "execution_count": 1,
   "id": "f93d7362-52e1-4656-9b2f-38bd5fe231ff",
   "metadata": {},
   "outputs": [],
   "source": [
    "import pandas as pd\n",
    "import numpy as np\n",
    "import seaborn as sns"
   ]
  },
  {
   "cell_type": "markdown",
   "id": "4c91c1bf-adc9-4ff1-ac60-f6bf0d4f782e",
   "metadata": {},
   "source": [
    "### Set up the files names allowing a different path between Joe & Andrew\n",
    "#### Andrew - fix your file names so that they're not all named data.tsv within a folder name title.basics.tsv  The file should be named xxx.xxx.tsv instead of a folder named that way"
   ]
  },
  {
   "cell_type": "code",
   "execution_count": 2,
   "id": "6839aa83-8556-4b96-b06f-14ea1a357f82",
   "metadata": {},
   "outputs": [
    {
     "name": "stdout",
     "output_type": "stream",
     "text": [
      "C:\\Users\\j\\Downloads\\Day039Data\\name.basics.tsv\n",
      "C:\\Users\\j\\Downloads\\Day039Data\\title.akas.tsv\n",
      "C:\\Users\\j\\Downloads\\Day039Data\\title.basics.tsv\n",
      "C:\\Users\\j\\Downloads\\Day039Data\\title.crew.tsv\n",
      "C:\\Users\\j\\Downloads\\Day039Data\\title.episode.tsv\n",
      "C:\\Users\\j\\Downloads\\Day039Data\\title.principals.tsv\n",
      "C:\\Users\\j\\Downloads\\Day039Data\\title.ratings.tsv\n"
     ]
    }
   ],
   "source": [
    "#   Set the location of the files.\n",
    "file_location = r\"C:\\Users\\j\\Downloads\\Day039Data\"\n",
    "\n",
    "# Now add the names of the files to the location...\n",
    "file1 = file_location + \"\\\\name.basics.tsv\"\n",
    "file2 = file_location + \"\\\\title.akas.tsv\"\n",
    "file3 = file_location + \"\\\\title.basics.tsv\"\n",
    "file4 = file_location + \"\\\\title.crew.tsv\"\n",
    "file5 = file_location + \"\\\\title.episode.tsv\"\n",
    "file6 = file_location + \"\\\\title.principals.tsv\"\n",
    "file7 = file_location + \"\\\\title.ratings.tsv\"\n",
    "print(file1)\n",
    "print(file2)\n",
    "print(file3)\n",
    "print(file4)\n",
    "print(file5)\n",
    "print(file6)\n",
    "print(file7)"
   ]
  },
  {
   "cell_type": "markdown",
   "id": "374bd848-62b4-4530-a65f-538e5cbb0dfd",
   "metadata": {},
   "source": [
    "### Load name.basics.tsv"
   ]
  },
  {
   "cell_type": "code",
   "execution_count": 3,
   "id": "36799d11-f43a-44eb-9c11-a25c2f111f40",
   "metadata": {},
   "outputs": [
    {
     "name": "stdout",
     "output_type": "stream",
     "text": [
      "       nconst          primaryName birthYear deathYear  \\\n",
      "0   nm0000001         Fred Astaire      1899      1987   \n",
      "1   nm0000002        Lauren Bacall      1924      2014   \n",
      "2   nm0000003      Brigitte Bardot      1934        \\N   \n",
      "3   nm0000004         John Belushi      1949      1982   \n",
      "4   nm0000005       Ingmar Bergman      1918      2007   \n",
      "5   nm0000006       Ingrid Bergman      1915      1982   \n",
      "6   nm0000007      Humphrey Bogart      1899      1957   \n",
      "7   nm0000008        Marlon Brando      1924      2004   \n",
      "8   nm0000009       Richard Burton      1925      1984   \n",
      "9   nm0000010         James Cagney      1899      1986   \n",
      "10  nm0000011          Gary Cooper      1901      1961   \n",
      "11  nm0000012          Bette Davis      1908      1989   \n",
      "12  nm0000013            Doris Day      1922      2019   \n",
      "13  nm0000014  Olivia de Havilland      1916      2020   \n",
      "14  nm0000015           James Dean      1931      1955   \n",
      "15  nm0000016      Georges Delerue      1925      1992   \n",
      "16  nm0000017     Marlene Dietrich      1901      1992   \n",
      "17  nm0000018         Kirk Douglas      1916      2020   \n",
      "18  nm0000019     Federico Fellini      1920      1993   \n",
      "19  nm0000020          Henry Fonda      1905      1982   \n",
      "\n",
      "                        primaryProfession  \\\n",
      "0          soundtrack,actor,miscellaneous   \n",
      "1                      actress,soundtrack   \n",
      "2     actress,soundtrack,music_department   \n",
      "3                 actor,soundtrack,writer   \n",
      "4                   writer,director,actor   \n",
      "5             actress,soundtrack,producer   \n",
      "6               actor,soundtrack,producer   \n",
      "7               actor,soundtrack,director   \n",
      "8               actor,soundtrack,producer   \n",
      "9               actor,soundtrack,director   \n",
      "10                actor,soundtrack,stunts   \n",
      "11  actress,soundtrack,make_up_department   \n",
      "12            soundtrack,actress,producer   \n",
      "13                     actress,soundtrack   \n",
      "14                    actor,miscellaneous   \n",
      "15   composer,soundtrack,music_department   \n",
      "16    soundtrack,actress,music_department   \n",
      "17              actor,producer,soundtrack   \n",
      "18                  writer,director,actor   \n",
      "19              actor,producer,soundtrack   \n",
      "\n",
      "                             knownForTitles  \n",
      "0   tt0053137,tt0072308,tt0050419,tt0045537  \n",
      "1   tt0075213,tt0038355,tt0037382,tt0117057  \n",
      "2   tt0054452,tt0057345,tt0049189,tt0056404  \n",
      "3   tt0080455,tt0072562,tt0077975,tt0078723  \n",
      "4   tt0050986,tt0050976,tt0060827,tt0069467  \n",
      "5   tt0038109,tt0034583,tt0036855,tt0038787  \n",
      "6   tt0034583,tt0043265,tt0042593,tt0037382  \n",
      "7   tt0068646,tt0078788,tt0047296,tt0070849  \n",
      "8   tt0059749,tt0061184,tt0087803,tt0057877  \n",
      "9   tt0035575,tt0031867,tt0042041,tt0029870  \n",
      "10  tt0044706,tt0035896,tt0034167,tt0027996  \n",
      "11  tt0031210,tt0035140,tt0042192,tt0056687  \n",
      "12  tt0053172,tt0048317,tt0045591,tt0049470  \n",
      "13  tt0041452,tt0040806,tt0029843,tt0031381  \n",
      "14  tt0048028,tt0120956,tt0049261,tt0048545  \n",
      "15  tt0091763,tt8847712,tt0069946,tt0096320  \n",
      "16  tt0055031,tt0052311,tt0051201,tt0021156  \n",
      "17  tt0049456,tt0054331,tt0050825,tt0043338  \n",
      "18  tt0071129,tt0056801,tt0050783,tt0047528  \n",
      "19  tt0082846,tt0032551,tt0051207,tt0050083  \n"
     ]
    },
    {
     "data": {
      "text/plain": [
       "(12548289, 6)"
      ]
     },
     "execution_count": 3,
     "metadata": {},
     "output_type": "execute_result"
    }
   ],
   "source": [
    "df1 =  pd.read_csv(file1, sep='\\t')\n",
    "print(df1.head(20))\n",
    "df1.shape"
   ]
  },
  {
   "cell_type": "markdown",
   "id": "6e53f487-426a-4d0b-8554-bdc7194e35b8",
   "metadata": {},
   "source": [
    "### Load title.akas.tsv\n",
    "- This file is throwing a warning.  See if we can find a graceful way to handle this error...\n",
    "\n",
    "DtypeWarning: Columns (7) have mixed types. Specify dtype option on import or set low_memory=False.\n",
    "\n",
    "This is from the column \"isOriginalTitle\"\n",
    "\n",
    "- There is a good article/explanation [here](https://stackoverflow.com/questions/24251219/pandas-read-csv-low-memory-and-dtype-options)."
   ]
  },
  {
   "cell_type": "code",
   "execution_count": 4,
   "id": "289c4472-35d7-470a-a4bb-8be60c2822c3",
   "metadata": {},
   "outputs": [
    {
     "name": "stderr",
     "output_type": "stream",
     "text": [
      "C:\\Users\\j\\AppData\\Local\\Temp\\ipykernel_3380\\664282157.py:1: DtypeWarning: Columns (7) have mixed types. Specify dtype option on import or set low_memory=False.\n",
      "  df2 =  pd.read_csv(file2, sep='\\t')\n"
     ]
    },
    {
     "name": "stdout",
     "output_type": "stream",
     "text": [
      "      titleId  ordering                      title region language  \\\n",
      "0   tt0000001         1                 Карменсіта     UA       \\N   \n",
      "1   tt0000001         2                 Carmencita     DE       \\N   \n",
      "2   tt0000001         3  Carmencita - spanyol tánc     HU       \\N   \n",
      "3   tt0000001         4                 Καρμενσίτα     GR       \\N   \n",
      "4   tt0000001         5                 Карменсита     RU       \\N   \n",
      "5   tt0000001         6                 Carmencita     US       \\N   \n",
      "6   tt0000001         7                 Carmencita     \\N       \\N   \n",
      "7   tt0000001         8                    カルメンチータ     JP       ja   \n",
      "8   tt0000002         1     Le clown et ses chiens     \\N       \\N   \n",
      "9   tt0000002         2     Le clown et ses chiens     FR       \\N   \n",
      "10  tt0000002         3          A bohóc és kutyái     HU       \\N   \n",
      "11  tt0000002         4  Der Clown und seine Hunde     DE       \\N   \n",
      "12  tt0000002         5      Clovnul si cainii sai     RO       \\N   \n",
      "13  tt0000002         6         Клоун и его собаки     RU       \\N   \n",
      "14  tt0000002         7     The Clown and His Dogs     US       \\N   \n",
      "15  tt0000002         8                      道化師と犬     JP       ja   \n",
      "16  tt0000003         1           Sarmanul Pierrot     RO       \\N   \n",
      "17  tt0000003         2            Szegény Pierrot     HU       \\N   \n",
      "18  tt0000003         3                     哀れなピエロ     JP       ja   \n",
      "19  tt0000003         4               Бідний П'єро     UA       \\N   \n",
      "\n",
      "          types             attributes isOriginalTitle  \n",
      "0   imdbDisplay                     \\N               0  \n",
      "1            \\N          literal title               0  \n",
      "2   imdbDisplay                     \\N               0  \n",
      "3   imdbDisplay                     \\N               0  \n",
      "4   imdbDisplay                     \\N               0  \n",
      "5   imdbDisplay                     \\N               0  \n",
      "6      original                     \\N               1  \n",
      "7   imdbDisplay                     \\N               0  \n",
      "8      original                     \\N               1  \n",
      "9   imdbDisplay                     \\N               0  \n",
      "10  imdbDisplay                     \\N               0  \n",
      "11           \\N          literal title               0  \n",
      "12  imdbDisplay                     \\N               0  \n",
      "13  imdbDisplay                     \\N               0  \n",
      "14           \\N  literal English title               0  \n",
      "15  imdbDisplay                     \\N               0  \n",
      "16  imdbDisplay                     \\N               0  \n",
      "17  imdbDisplay                     \\N               0  \n",
      "18  imdbDisplay                     \\N               0  \n",
      "19  imdbDisplay                     \\N               0  \n"
     ]
    },
    {
     "data": {
      "text/plain": [
       "(35994986, 8)"
      ]
     },
     "execution_count": 4,
     "metadata": {},
     "output_type": "execute_result"
    }
   ],
   "source": [
    "df2 =  pd.read_csv(file2, sep='\\t')\n",
    "print(df2.head(20))\n",
    "df2.shape"
   ]
  },
  {
   "cell_type": "markdown",
   "id": "56a41f64-4bc2-4b2a-8ecc-d3479fdc4d0f",
   "metadata": {},
   "source": [
    "### Load title.basics.tsv\"\n",
    "- This file is throwing a warning.  Find a graceful way to handle this error...\n",
    "\n",
    "DtypeWarning: Columns (4) have mixed types. Specify dtype option on import or set low_memory=False.\n",
    "\n",
    "This is from the column \"isAdult\""
   ]
  },
  {
   "cell_type": "code",
   "execution_count": 5,
   "id": "2099f559-c792-43ec-b057-e4cb8f536a4b",
   "metadata": {},
   "outputs": [
    {
     "name": "stderr",
     "output_type": "stream",
     "text": [
      "C:\\Users\\j\\AppData\\Local\\Temp\\ipykernel_3380\\589610759.py:1: DtypeWarning: Columns (4) have mixed types. Specify dtype option on import or set low_memory=False.\n",
      "  df3 =  pd.read_csv(file3, sep='\\t')\n"
     ]
    },
    {
     "name": "stdout",
     "output_type": "stream",
     "text": [
      "       tconst titleType                                 primaryTitle  \\\n",
      "0   tt0000001     short                                   Carmencita   \n",
      "1   tt0000002     short                       Le clown et ses chiens   \n",
      "2   tt0000003     short                               Pauvre Pierrot   \n",
      "3   tt0000004     short                                  Un bon bock   \n",
      "4   tt0000005     short                             Blacksmith Scene   \n",
      "5   tt0000006     short                            Chinese Opium Den   \n",
      "6   tt0000007     short  Corbett and Courtney Before the Kinetograph   \n",
      "7   tt0000008     short       Edison Kinetoscopic Record of a Sneeze   \n",
      "8   tt0000009     movie                                   Miss Jerry   \n",
      "9   tt0000010     short                          Leaving the Factory   \n",
      "10  tt0000011     short                      Akrobatisches Potpourri   \n",
      "11  tt0000012     short                       The Arrival of a Train   \n",
      "12  tt0000013     short  The Photographical Congress Arrives in Lyon   \n",
      "13  tt0000014     short                          The Waterer Watered   \n",
      "14  tt0000015     short                          Autour d'une cabine   \n",
      "15  tt0000016     short                        Boat Leaving the Port   \n",
      "16  tt0000017     short                     Italienischer Bauerntanz   \n",
      "17  tt0000018     short                         Das boxende Känguruh   \n",
      "18  tt0000019     short                             The Clown Barber   \n",
      "19  tt0000020     short                               The Derby 1895   \n",
      "\n",
      "                                        originalTitle isAdult startYear  \\\n",
      "0                                          Carmencita       0      1894   \n",
      "1                              Le clown et ses chiens       0      1892   \n",
      "2                                      Pauvre Pierrot       0      1892   \n",
      "3                                         Un bon bock       0      1892   \n",
      "4                                    Blacksmith Scene       0      1893   \n",
      "5                                   Chinese Opium Den       0      1894   \n",
      "6         Corbett and Courtney Before the Kinetograph       0      1894   \n",
      "7              Edison Kinetoscopic Record of a Sneeze       0      1894   \n",
      "8                                          Miss Jerry       0      1894   \n",
      "9                 La sortie de l'usine Lumière à Lyon       0      1895   \n",
      "10                            Akrobatisches Potpourri       0      1895   \n",
      "11                   L'arrivée d'un train à La Ciotat       0      1896   \n",
      "12  Le débarquement du congrès de photographie à Lyon       0      1895   \n",
      "13                                  L'arroseur arrosé       0      1895   \n",
      "14                                Autour d'une cabine       0      1894   \n",
      "15                             Barque sortant du port       0      1895   \n",
      "16                           Italienischer Bauerntanz       0      1895   \n",
      "17                               Das boxende Känguruh       0      1895   \n",
      "18                                   The Clown Barber       0      1898   \n",
      "19                                     The Derby 1895       0      1895   \n",
      "\n",
      "   endYear runtimeMinutes                    genres  \n",
      "0       \\N              1         Documentary,Short  \n",
      "1       \\N              5           Animation,Short  \n",
      "2       \\N              4  Animation,Comedy,Romance  \n",
      "3       \\N             12           Animation,Short  \n",
      "4       \\N              1              Comedy,Short  \n",
      "5       \\N              1                     Short  \n",
      "6       \\N              1               Short,Sport  \n",
      "7       \\N              1         Documentary,Short  \n",
      "8       \\N             45                   Romance  \n",
      "9       \\N              1         Documentary,Short  \n",
      "10      \\N              1         Documentary,Short  \n",
      "11      \\N              1         Documentary,Short  \n",
      "12      \\N              1         Documentary,Short  \n",
      "13      \\N              1              Comedy,Short  \n",
      "14      \\N              2           Animation,Short  \n",
      "15      \\N              1         Documentary,Short  \n",
      "16      \\N              1         Documentary,Short  \n",
      "17      \\N              1                     Short  \n",
      "18      \\N             \\N              Comedy,Short  \n",
      "19      \\N              1   Documentary,Short,Sport  \n"
     ]
    },
    {
     "data": {
      "text/plain": [
       "(9875263, 9)"
      ]
     },
     "execution_count": 5,
     "metadata": {},
     "output_type": "execute_result"
    }
   ],
   "source": [
    "df3 =  pd.read_csv(file3, sep='\\t')\n",
    "print(df3.head(20))\n",
    "df3.shape"
   ]
  },
  {
   "cell_type": "markdown",
   "id": "df964292-8ee0-4961-b4f8-16dd3ba742e7",
   "metadata": {},
   "source": [
    "### Load title.crew"
   ]
  },
  {
   "cell_type": "code",
   "execution_count": 6,
   "id": "1770a611-8cbd-4bc7-80a1-47258d68ef0c",
   "metadata": {},
   "outputs": [
    {
     "name": "stdout",
     "output_type": "stream",
     "text": [
      "       tconst            directors    writers\n",
      "0   tt0000001            nm0005690         \\N\n",
      "1   tt0000002            nm0721526         \\N\n",
      "2   tt0000003            nm0721526         \\N\n",
      "3   tt0000004            nm0721526         \\N\n",
      "4   tt0000005            nm0005690         \\N\n",
      "5   tt0000006            nm0005690         \\N\n",
      "6   tt0000007  nm0374658,nm0005690         \\N\n",
      "7   tt0000008            nm0005690         \\N\n",
      "8   tt0000009            nm0085156  nm0085156\n",
      "9   tt0000010            nm0525910         \\N\n",
      "10  tt0000011            nm0804434         \\N\n",
      "11  tt0000012  nm0525908,nm0525910         \\N\n",
      "12  tt0000013            nm0525910         \\N\n",
      "13  tt0000014            nm0525910         \\N\n",
      "14  tt0000015            nm0721526         \\N\n",
      "15  tt0000016            nm0525910         \\N\n",
      "16  tt0000017  nm1587194,nm0804434         \\N\n",
      "17  tt0000018            nm0804434         \\N\n",
      "18  tt0000019            nm0932055         \\N\n",
      "19  tt0000020            nm0010291         \\N\n"
     ]
    },
    {
     "data": {
      "text/plain": [
       "(9875263, 3)"
      ]
     },
     "execution_count": 6,
     "metadata": {},
     "output_type": "execute_result"
    }
   ],
   "source": [
    "df4 =  pd.read_csv(file4, sep='\\t')\n",
    "print(df4.head(20))\n",
    "df4.shape"
   ]
  },
  {
   "cell_type": "markdown",
   "id": "b67dc91d-3428-485d-9222-23567cf5bc79",
   "metadata": {},
   "source": [
    "### Load \\title.episode.tsv"
   ]
  },
  {
   "cell_type": "code",
   "execution_count": 7,
   "id": "d5d593b3-fa1c-4085-bcf3-05ca5d318366",
   "metadata": {},
   "outputs": [
    {
     "name": "stdout",
     "output_type": "stream",
     "text": [
      "       tconst parentTconst seasonNumber episodeNumber\n",
      "0   tt0041951    tt0041038            1             9\n",
      "1   tt0042816    tt0989125            1            17\n",
      "2   tt0042889    tt0989125           \\N            \\N\n",
      "3   tt0043426    tt0040051            3            42\n",
      "4   tt0043631    tt0989125            2            16\n",
      "5   tt0043693    tt0989125            2             8\n",
      "6   tt0043710    tt0989125            3             3\n",
      "7   tt0044093    tt0959862            1             6\n",
      "8   tt0044668    tt0044243            2            16\n",
      "9   tt0044901    tt0989125            3            46\n",
      "10  tt0045519    tt0989125            4            11\n",
      "11  tt0045960    tt0044284            2             3\n",
      "12  tt0046135    tt0989125            4             5\n",
      "13  tt0046150    tt0341798           \\N            \\N\n",
      "14  tt0046855    tt0046643            1             4\n",
      "15  tt0046864    tt0989125            5            20\n",
      "16  tt0047810    tt0914702            3            36\n",
      "17  tt0047852    tt0047745            1            15\n",
      "18  tt0047858    tt0046637            2             9\n",
      "19  tt0047961    tt0989125            6             5\n"
     ]
    },
    {
     "data": {
      "text/plain": [
       "(7501412, 4)"
      ]
     },
     "execution_count": 7,
     "metadata": {},
     "output_type": "execute_result"
    }
   ],
   "source": [
    "df5 =  pd.read_csv(file5, sep='\\t')\n",
    "print(df5.head(20))\n",
    "df5.shape"
   ]
  },
  {
   "cell_type": "markdown",
   "id": "b8aa6bcd-1a07-410a-a6bf-9326bfbd9876",
   "metadata": {},
   "source": [
    "### Load title.principals.tsv"
   ]
  },
  {
   "cell_type": "code",
   "execution_count": 8,
   "id": "deb94245-e535-4392-bff4-ddc24a0b00ff",
   "metadata": {},
   "outputs": [
    {
     "name": "stdout",
     "output_type": "stream",
     "text": [
      "       tconst  ordering     nconst         category                      job  \\\n",
      "0   tt0000001         1  nm1588970             self                       \\N   \n",
      "1   tt0000001         2  nm0005690         director                       \\N   \n",
      "2   tt0000001         3  nm0374658  cinematographer  director of photography   \n",
      "3   tt0000002         1  nm0721526         director                       \\N   \n",
      "4   tt0000002         2  nm1335271         composer                       \\N   \n",
      "5   tt0000003         1  nm0721526         director                       \\N   \n",
      "6   tt0000003         2  nm1770680         producer                 producer   \n",
      "7   tt0000003         3  nm1335271         composer                       \\N   \n",
      "8   tt0000003         4  nm5442200           editor                       \\N   \n",
      "9   tt0000004         1  nm0721526         director                       \\N   \n",
      "10  tt0000004         2  nm1335271         composer                       \\N   \n",
      "11  tt0000005         1  nm0443482            actor                       \\N   \n",
      "12  tt0000005         2  nm0653042            actor                       \\N   \n",
      "13  tt0000005         3  nm0005690         director                       \\N   \n",
      "14  tt0000005         4  nm0249379         producer                 producer   \n",
      "15  tt0000006         1  nm0005690         director                       \\N   \n",
      "16  tt0000007         1  nm0179163            actor                       \\N   \n",
      "17  tt0000007         2  nm0183947            actor                       \\N   \n",
      "18  tt0000007         3  nm0005690         director                       \\N   \n",
      "19  tt0000007         4  nm0374658         director                       \\N   \n",
      "\n",
      "        characters  \n",
      "0         [\"Self\"]  \n",
      "1               \\N  \n",
      "2               \\N  \n",
      "3               \\N  \n",
      "4               \\N  \n",
      "5               \\N  \n",
      "6               \\N  \n",
      "7               \\N  \n",
      "8               \\N  \n",
      "9               \\N  \n",
      "10              \\N  \n",
      "11  [\"Blacksmith\"]  \n",
      "12   [\"Assistant\"]  \n",
      "13              \\N  \n",
      "14              \\N  \n",
      "15              \\N  \n",
      "16              \\N  \n",
      "17              \\N  \n",
      "18              \\N  \n",
      "19              \\N  \n"
     ]
    },
    {
     "data": {
      "text/plain": [
       "(56267423, 6)"
      ]
     },
     "execution_count": 8,
     "metadata": {},
     "output_type": "execute_result"
    }
   ],
   "source": [
    "df6 =  pd.read_csv(file6, sep='\\t')\n",
    "print(df6.head(20))\n",
    "df6.shape"
   ]
  },
  {
   "cell_type": "markdown",
   "id": "45066dec-3aa3-42fd-b950-6e541e22cf79",
   "metadata": {},
   "source": [
    "### Load title.ratings.tsv"
   ]
  },
  {
   "cell_type": "code",
   "execution_count": 9,
   "id": "4dec8ee9-bee7-4819-ac13-0cf02005261d",
   "metadata": {},
   "outputs": [
    {
     "name": "stdout",
     "output_type": "stream",
     "text": [
      "       tconst  averageRating  numVotes\n",
      "0   tt0000001            5.7      1977\n",
      "1   tt0000002            5.8       264\n",
      "2   tt0000003            6.5      1824\n",
      "3   tt0000004            5.6       178\n",
      "4   tt0000005            6.2      2617\n",
      "5   tt0000006            5.1       182\n",
      "6   tt0000007            5.4       820\n",
      "7   tt0000008            5.4      2114\n",
      "8   tt0000009            5.3       205\n",
      "9   tt0000010            6.9      7167\n",
      "10  tt0000011            5.3       367\n",
      "11  tt0000012            7.4     12267\n",
      "12  tt0000013            5.7      1885\n",
      "13  tt0000014            7.1      5515\n",
      "14  tt0000015            6.1      1088\n",
      "15  tt0000016            5.9      1503\n",
      "16  tt0000017            4.6       327\n",
      "17  tt0000018            5.3       595\n",
      "18  tt0000019            4.8        32\n",
      "19  tt0000020            4.8       360\n"
     ]
    },
    {
     "data": {
      "text/plain": [
       "(1314586, 3)"
      ]
     },
     "execution_count": 9,
     "metadata": {},
     "output_type": "execute_result"
    }
   ],
   "source": [
    "df7 =  pd.read_csv(file7, sep='\\t')\n",
    "print(df7.head(20))\n",
    "df7.shape"
   ]
  },
  {
   "cell_type": "markdown",
   "id": "baf4f208-cbe2-45b9-bbe7-36bff3872009",
   "metadata": {},
   "source": [
    "#   Clean up the data...\n",
    "- Complete the research under \"Analysis ideas\" below to identify the tables we will need.  \n",
    "- In the cells above, we can comment out the files not needed.  I'd like to keep the cells to show that we explored them.\n",
    "- Find any invalid data types\n",
    "- Joins will resolve themselves.\n",
    "- Maybe add dfx.info() for4 each of the above files."
   ]
  },
  {
   "cell_type": "code",
   "execution_count": null,
   "id": "373c9198-9b31-4643-9c4f-add8e09ff5dd",
   "metadata": {},
   "outputs": [],
   "source": []
  },
  {
   "cell_type": "code",
   "execution_count": null,
   "id": "d1ea67ac-6a28-464c-bfb9-b7ad3921a9fa",
   "metadata": {},
   "outputs": [],
   "source": []
  },
  {
   "cell_type": "markdown",
   "id": "4322d8a9-7900-4a26-9777-0d59648a93b9",
   "metadata": {},
   "source": [
    "# Analysis ideas...\n",
    "1. Compare Genre vs Rating - identify the most popular genre\n",
    "   - title.basics.tsv - to get the title/genre\n",
    "   - title.ratings.tsv to get the rating\n",
    "   - join on tconst\n",
    "1. Compare actor with the rating for their movies\n",
    "   - Average the rating for all of their movies, also include a count of their movies.\n",
    "   - name.basics.tsv - to get the list of actors\n",
    "   - parse out \"knownForTitles\" to get a list of movies the actor was in.\n",
    "   - title.basics.tsv - to get the title/genre\n",
    "   - title.ratings.tsv to get the rating\n",
    "   - join on tconst\n",
    "1. Average rating by decade of the movie.\n",
    "   - Round the startYear to -1 to get the decade.\n",
    "1. Runtime compared to date - are newer movies getting longer?\n",
    "   - This would be a great place to use a scatterplot with a linear regressoin.\n",
    "1. Compare remankes.\n",
    "   - How do the ratings compare.\n",
    "   - How far apart is the remake from the original\n",
    "   - How does this timeframe affect the rating?\n",
    "\n",
    "# Which tables do we need?  Add them to the above research"
   ]
  },
  {
   "cell_type": "code",
   "execution_count": null,
   "id": "3319bd2e-9a63-4ee8-ad03-d0b8e9f72ef6",
   "metadata": {},
   "outputs": [],
   "source": []
  }
 ],
 "metadata": {
  "kernelspec": {
   "display_name": "Python 3 (ipykernel)",
   "language": "python",
   "name": "python3"
  },
  "language_info": {
   "codemirror_mode": {
    "name": "ipython",
    "version": 3
   },
   "file_extension": ".py",
   "mimetype": "text/x-python",
   "name": "python",
   "nbconvert_exporter": "python",
   "pygments_lexer": "ipython3",
   "version": "3.10.9"
  }
 },
 "nbformat": 4,
 "nbformat_minor": 5
}
