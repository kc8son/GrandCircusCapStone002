{
 "cells": [
  {
   "cell_type": "markdown",
   "metadata": {},
   "source": [
    "# Grand Circus Capstrone Project 002\n",
    "### Andrew & Joe's Data Analysis\n",
    "IMDB MOVIES/SHOWS REPORT\n",
    "\n",
    "Files available:\n",
    "- name.basics.tsv\n",
    "- title.akas.tsv\n",
    "- title.basics.tsv\n",
    "- title.crew.tsv\n",
    "- title.episode.tsv\n",
    "- title.principals.tsv\n",
    "- title.ratings.tsv"
   ]
  },
  {
   "cell_type": "markdown",
   "metadata": {},
   "source": [
    "### Inports"
   ]
  },
  {
   "cell_type": "code",
   "execution_count": 1,
   "metadata": {},
   "outputs": [],
   "source": [
    "import pandas as pd\n",
    "import numpy as np\n",
    "import seaborn as sns\n"
   ]
  },
  {
   "cell_type": "markdown",
   "metadata": {},
   "source": [
    "### Setting up File Location Variables"
   ]
  },
  {
   "cell_type": "code",
   "execution_count": 2,
   "metadata": {},
   "outputs": [
    {
     "name": "stdout",
     "output_type": "stream",
     "text": [
      "C:\\Users\\JMerten\\OneDrive - KNEX\\Downloads\\DA2\\name.basics.tsv/data.tsv\n",
      "C:\\Users\\JMerten\\OneDrive - KNEX\\Downloads\\DA2\\title.akas.tsv/data.tsv\n",
      "C:\\Users\\JMerten\\OneDrive - KNEX\\Downloads\\DA2\\title.basics.tsv/data.tsv\n",
      "C:\\Users\\JMerten\\OneDrive - KNEX\\Downloads\\DA2\\title.crew.tsv/data.tsv\n",
      "C:\\Users\\JMerten\\OneDrive - KNEX\\Downloads\\DA2\\title.episode.tsv/data.tsv\n",
      "C:\\Users\\JMerten\\OneDrive - KNEX\\Downloads\\DA2\\title.principals.tsv/data.tsv\n",
      "C:\\Users\\JMerten\\OneDrive - KNEX\\Downloads\\DA2\\title.ratings.tsv/data.tsv\n"
     ]
    }
   ],
   "source": [
    "#   Joe's paths...\n",
    "file1 = r'C:\\Users\\JMerten\\OneDrive - KNEX\\Downloads\\DA2\\name.basics.tsv/data.tsv'\n",
    "file2 = r'C:\\Users\\JMerten\\OneDrive - KNEX\\Downloads\\DA2\\title.akas.tsv/data.tsv'\n",
    "file3 = r'C:\\Users\\JMerten\\OneDrive - KNEX\\Downloads\\DA2\\title.basics.tsv/data.tsv'\n",
    "file4 = r'C:\\Users\\JMerten\\OneDrive - KNEX\\Downloads\\DA2\\title.crew.tsv/data.tsv'\n",
    "file5 = r'C:\\Users\\JMerten\\OneDrive - KNEX\\Downloads\\DA2\\title.episode.tsv/data.tsv'\n",
    "file6 = r'C:\\Users\\JMerten\\OneDrive - KNEX\\Downloads\\DA2\\title.principals.tsv/data.tsv'\n",
    "file7 = r'C:\\Users\\JMerten\\OneDrive - KNEX\\Downloads\\DA2\\title.ratings.tsv/data.tsv'\n",
    "\n",
    "#   Andrew's paths\n",
    "# file1 = 'name.basics.tsv/data.tsv'\n",
    "# file2 = 'title.akas.tsv/data.tsv'\n",
    "# file3 = 'title.basics.tsv/data.tsv'\n",
    "# file4 = 'title.crew.tsv/data.tsv'\n",
    "# file5 = 'title.episode.tsv/data.tsv'\n",
    "# file6 = 'title.principals.tsv/data.tsv'\n",
    "# file7 = 'title.ratings.tsv/data.tsv'\n",
    "\n",
    "print(file1)\n",
    "print(file2)\n",
    "print(file3)\n",
    "print(file4)\n",
    "print(file5)\n",
    "print(file6)\n",
    "print(file7)\n"
   ]
  },
  {
   "cell_type": "markdown",
   "metadata": {},
   "source": [
    "## Reading in title.basics.tsv and title.ratings.tsv\n",
    "- movies_df = title.basics.tsv = file3\n",
    "- ratings_df = title.ratings.tsv = file7"
   ]
  },
  {
   "cell_type": "code",
   "execution_count": 3,
   "metadata": {},
   "outputs": [
    {
     "name": "stderr",
     "output_type": "stream",
     "text": [
      "C:\\Users\\JMerten\\Anaconda3\\lib\\site-packages\\IPython\\core\\interactiveshell.py:3071: DtypeWarning: Columns (4) have mixed types.Specify dtype option on import or set low_memory=False.\n",
      "  has_raised = await self.run_ast_nodes(code_ast.body, cell_name,\n"
     ]
    }
   ],
   "source": [
    "movies_df = pd.read_csv(file3, sep='\\t')\n",
    "ratings_df = pd.read_csv(file7, sep='\\t')\n"
   ]
  },
  {
   "cell_type": "markdown",
   "metadata": {},
   "source": [
    "## Filter Movies and Remove Missing Genre Information"
   ]
  },
  {
   "cell_type": "code",
   "execution_count": 4,
   "metadata": {},
   "outputs": [],
   "source": [
    "# movies_df = pd.read_csv(file3, sep='\\t')\n",
    "movies_df = movies_df[movies_df['titleType'] == 'movie']  # Filter the DataFrame to include only movies (titleType == 'movie')\n",
    "\n",
    "# Remove rows with missing genre information\n",
    "movies_df = movies_df.dropna(subset=['genres'])\n",
    "\n",
    "\n"
   ]
  },
  {
   "cell_type": "markdown",
   "metadata": {},
   "source": [
    "## Count Genres in Movies DataFrame\n"
   ]
  },
  {
   "cell_type": "code",
   "execution_count": 5,
   "metadata": {},
   "outputs": [],
   "source": [
    "# Create a dictionary to store genre counts\n",
    "genre_counts = {}\n",
    "\n",
    "# Iterate over each row and count the genres\n",
    "for genres in movies_df['genres']:\n",
    "    genre_list = genres.split(',')\n",
    "    for genre in genre_list:\n",
    "        genre_counts[genre] = genre_counts.get(genre, 0) + 1\n"
   ]
  },
  {
   "cell_type": "markdown",
   "metadata": {},
   "source": [
    "## Find the Most Popular Genre\n"
   ]
  },
  {
   "cell_type": "code",
   "execution_count": 6,
   "metadata": {},
   "outputs": [
    {
     "name": "stdout",
     "output_type": "stream",
     "text": [
      "The most popular genre is Drama with a count of 234447.\n"
     ]
    }
   ],
   "source": [
    "# Find the genre with the highest count\n",
    "most_popular_genre = max(genre_counts, key=genre_counts.get)\n",
    "count = genre_counts[most_popular_genre]\n",
    "\n",
    "print(f\"The most popular genre is {most_popular_genre} with a count of {count}.\")\n"
   ]
  },
  {
   "cell_type": "markdown",
   "metadata": {},
   "source": [
    "## Reading in two CSV files\n",
    "## Isn't this redundant?  We've already read in file3 & file7, I think."
   ]
  },
  {
   "cell_type": "code",
   "execution_count": 7,
   "metadata": {},
   "outputs": [],
   "source": [
    "# file7_df = pd.read_csv(file7, sep='\\t')\n",
    "# basics_df = pd.read_csv(file3, sep='\\t')\n",
    "# ratings_df = pd.read_csv(file7, sep='\\t')"
   ]
  },
  {
   "cell_type": "markdown",
   "metadata": {},
   "source": [
    "## Merge DataFrames\n"
   ]
  },
  {
   "cell_type": "code",
   "execution_count": 8,
   "metadata": {},
   "outputs": [],
   "source": [
    "# Merge basics_df and ratings_df on the 'tconst' column\n",
    "merged_df = pd.merge(movies_df, ratings_df, on='tconst')\n"
   ]
  },
  {
   "cell_type": "markdown",
   "metadata": {},
   "source": [
    "## Filter Movies and Remove Missing Information"
   ]
  },
  {
   "cell_type": "code",
   "execution_count": 9,
   "metadata": {},
   "outputs": [],
   "source": [
    "# Filter the merged DataFrame to include only movies (titleType == 'movie')\n",
    "movies_df = merged_df[merged_df['titleType'] == 'movie']\n",
    "\n",
    "# Remove rows with missing genre or rating information\n",
    "movies_df = movies_df.dropna(subset=['genres', 'averageRating'])\n"
   ]
  },
  {
   "cell_type": "markdown",
   "metadata": {},
   "source": [
    "## Calculate Genre Ratings"
   ]
  },
  {
   "cell_type": "code",
   "execution_count": 10,
   "metadata": {},
   "outputs": [],
   "source": [
    "# Create a dictionary to store genre ratings\n",
    "genre_ratings = {}\n",
    "\n",
    "# Iterate over each row and calculate the average rating for each genre\n",
    "for index, row in movies_df.iterrows():\n",
    "    genres = row['genres'].split(',')\n",
    "    rating = row['averageRating']\n",
    "    \n",
    "    for genre in genres:\n",
    "        if genre in genre_ratings:\n",
    "            genre_ratings[genre].append(rating)\n",
    "        else:\n",
    "            genre_ratings[genre] = [rating]\n"
   ]
  },
  {
   "cell_type": "markdown",
   "metadata": {},
   "source": [
    "## Calculate Average Genre Ratings and Find the Highest Rated Genre\n"
   ]
  },
  {
   "cell_type": "code",
   "execution_count": 11,
   "metadata": {},
   "outputs": [
    {
     "name": "stdout",
     "output_type": "stream",
     "text": [
      "The highest rated genre is Game-Show with an average rating of 8.9.\n"
     ]
    }
   ],
   "source": [
    "# Calculate the average rating for each genre\n",
    "average_ratings = {genre: sum(ratings) / len(ratings) for genre, ratings in genre_ratings.items()}\n",
    "\n",
    "# Find the genre with the highest average rating\n",
    "highest_rated_genre = max(average_ratings, key=average_ratings.get)\n",
    "average_rating = average_ratings[highest_rated_genre]\n",
    "\n",
    "print(f\"The highest rated genre is {highest_rated_genre} with an average rating of {average_rating}.\")\n"
   ]
  },
  {
   "cell_type": "markdown",
   "metadata": {},
   "source": [
    "## Filter Movies and Remove Missing Data\n"
   ]
  },
  {
   "cell_type": "code",
   "execution_count": 12,
   "metadata": {},
   "outputs": [],
   "source": [
    "# Filter the merged DataFrame to include only movies (titleType == 'movie')\n",
    "movies_df = merged_df[merged_df['titleType'] == 'movie']\n",
    "\n",
    "# Remove rows with missing startYear or averageRating information\n",
    "movies_df = movies_df.dropna(subset=['startYear', 'averageRating'])\n"
   ]
  },
  {
   "cell_type": "markdown",
   "metadata": {},
   "source": [
    "## Create a new 'decade' column by rounding down the 'startYear' to the nearest 10\n"
   ]
  },
  {
   "cell_type": "code",
   "execution_count": 33,
   "metadata": {},
   "outputs": [],
   "source": [
    "# Convert the 'startYear' column to numeric\n",
    "movies_df['startYear'] = pd.to_numeric(movies_df['startYear'], errors='coerce')\n",
    "\n",
    "# Create a new 'decade' column by rounding down the 'startYear' to the nearest 10\n",
    "movies_df['decade'] = (movies_df['startYear'] // 10) * 10\n"
   ]
  },
  {
   "cell_type": "markdown",
   "metadata": {},
   "source": [
    "## Group the DataFrame by 'decade' and calculate the average rating\n"
   ]
  },
  {
   "cell_type": "code",
   "execution_count": 37,
   "metadata": {},
   "outputs": [],
   "source": [
    "average_ratings_by_decade = movies_df.groupby('decade')['averageRating'].mean()\n",
    "decade_rating_df = average_ratings_by_decade.to_frame()"
   ]
  },
  {
   "cell_type": "markdown",
   "metadata": {},
   "source": [
    "## Sort the average ratings in descending order"
   ]
  },
  {
   "cell_type": "code",
   "execution_count": 28,
   "metadata": {},
   "outputs": [],
   "source": [
    "# average_ratings_by_decade = average_ratings_by_decade.sort_values(ascending=False)"
   ]
  },
  {
   "cell_type": "markdown",
   "metadata": {},
   "source": [
    "## Print the average ratings by decade\n"
   ]
  },
  {
   "cell_type": "code",
   "execution_count": 29,
   "metadata": {},
   "outputs": [],
   "source": [
    "# print(\"Average Ratings by Decade:\")\n",
    "# for decade in sorted(average_ratings_by_decade.keys()):\n",
    "#     rating = average_ratings_by_decade[decade]\n",
    "#     print(f\"Decade: {decade}s\")\n",
    "#     print(f\"Average Rating: {rating}\")\n",
    "#     print(\"-------------------\")\n"
   ]
  },
  {
   "cell_type": "markdown",
   "metadata": {},
   "source": [
    "### Print the average ratings by decade - sorted by rating."
   ]
  },
  {
   "cell_type": "code",
   "execution_count": 30,
   "metadata": {},
   "outputs": [
    {
     "name": "stdout",
     "output_type": "stream",
     "text": [
      "decade\n",
      "2020.0    6.386861\n",
      "2010.0    6.243501\n",
      "1950.0    6.215964\n",
      "1940.0    6.208831\n",
      "2000.0    6.205812\n",
      "1960.0    6.148703\n",
      "1920.0    6.104818\n",
      "1930.0    6.093716\n",
      "1990.0    6.030797\n",
      "1980.0    6.014338\n",
      "1970.0    5.960906\n",
      "1910.0    5.794098\n",
      "1900.0    4.465060\n",
      "1890.0    4.450000\n",
      "Name: averageRating, dtype: float64\n"
     ]
    }
   ],
   "source": [
    "#   sorted(average_ratings_by_decade.keys())\n",
    "print(average_ratings_by_decade)"
   ]
  },
  {
   "cell_type": "markdown",
   "metadata": {},
   "source": [
    "### Print the average ratings by decade - sorted by decade."
   ]
  },
  {
   "cell_type": "code",
   "execution_count": 23,
   "metadata": {},
   "outputs": [
    {
     "name": "stdout",
     "output_type": "stream",
     "text": [
      "decade\n",
      "2020.0    6.386861\n",
      "2010.0    6.243501\n",
      "2000.0    6.205812\n",
      "1990.0    6.030797\n",
      "1980.0    6.014338\n",
      "1970.0    5.960906\n",
      "1960.0    6.148703\n",
      "1950.0    6.215964\n",
      "1940.0    6.208831\n",
      "1930.0    6.093716\n",
      "1920.0    6.104818\n",
      "1910.0    5.794098\n",
      "1900.0    4.465060\n",
      "1890.0    4.450000\n",
      "Name: averageRating, dtype: float64\n"
     ]
    }
   ],
   "source": [
    "print(average_ratings_by_decade.sort_index(ascending=False))"
   ]
  },
  {
   "cell_type": "markdown",
   "metadata": {},
   "source": [
    "### Graph the average ratings by decade - sorted by decade."
   ]
  },
  {
   "cell_type": "code",
   "execution_count": 39,
   "metadata": {},
   "outputs": [
    {
     "name": "stdout",
     "output_type": "stream",
     "text": [
      "<class 'pandas.core.frame.DataFrame'>\n",
      "        averageRating\n",
      "decade               \n",
      "1890.0       4.450000\n",
      "1900.0       4.465060\n",
      "1910.0       5.794098\n",
      "1920.0       6.104818\n",
      "1930.0       6.093716\n",
      "1940.0       6.208831\n",
      "1950.0       6.215964\n",
      "1960.0       6.148703\n",
      "1970.0       5.960906\n",
      "1980.0       6.014338\n",
      "1990.0       6.030797\n",
      "2000.0       6.205812\n",
      "2010.0       6.243501\n",
      "2020.0       6.386861\n"
     ]
    }
   ],
   "source": [
    "print(type(decade_rating_df))\n",
    "print(decade_rating_df)"
   ]
  },
  {
   "cell_type": "code",
   "execution_count": 45,
   "metadata": {},
   "outputs": [
    {
     "data": {
      "text/plain": [
       "<matplotlib.axes._subplots.AxesSubplot at 0x25a840bae50>"
      ]
     },
     "execution_count": 45,
     "metadata": {},
     "output_type": "execute_result"
    },
    {
     "data": {
      "image/png": "[encoded data removed]",
      "text/plain": [
       "<Figure size 432x288 with 1 Axes>"
      ]
     },
     "metadata": {
      "needs_background": "light"
     },
     "output_type": "display_data"
    }
   ],
   "source": [
    "sns.lineplot(\n",
    "    average_ratings_by_decade.index, average_ratings_by_decade.values\n",
    "#     , col=\"dataset\", hue=\"dataset\",\n",
    "#     col_wrap=2, palette=\"muted\", ci=None,\n",
    "#     height=4, scatter_kws={\"s\": 50, \"alpha\": 1}\n",
    ")\n",
    "# average_ratings_by_decade.index, average_ratings_by_decade.values"
   ]
  },
  {
   "cell_type": "markdown",
   "metadata": {},
   "source": [
    "### Visualization containing one quantitative and one categorical variable - Average Rating by genre"
   ]
  },
  {
   "cell_type": "code",
   "execution_count": 54,
   "metadata": {},
   "outputs": [
    {
     "name": "stdout",
     "output_type": "stream",
     "text": [
      "{'Romance': 6.101617308577602, 'Documentary': 7.231072166322352, 'News': 7.215174506828522, 'Sport': 6.624194903388424, '\\\\N': 6.19018544091538, 'Action': 5.716960709675343, 'Adventure': 5.8671054796775035, 'Biography': 6.9610375275937955, 'Drama': 6.251183780049845, 'Fantasy': 5.897538566243208, 'Comedy': 5.910845899636147, 'War': 6.4090596330275575, 'Crime': 5.986566457568941, 'Family': 6.2157433628318435, 'History': 6.809881860694093, 'Sci-Fi': 5.32898592775281, 'Thriller': 5.60443926189601, 'Western': 5.8190984578884875, 'Mystery': 5.859399571122226, 'Horror': 5.00368805771787, 'Music': 6.681429098511915, 'Animation': 6.373142292490114, 'Musical': 6.1797869006581045, 'Film-Noir': 6.46655290102389, 'Adult': 5.56764773511151, 'Reality-TV': 6.59811320754717, 'Talk-Show': 6.278571428571428, 'Short': 7.661538461538462, 'Game-Show': 8.9}\n",
      "<class 'dict'>\n"
     ]
    }
   ],
   "source": [
    "print(average_ratings)\n",
    "print(type(average_ratings))"
   ]
  },
  {
   "cell_type": "code",
   "execution_count": 55,
   "metadata": {},
   "outputs": [
    {
     "data": {
      "text/plain": [
       "<matplotlib.axes._subplots.AxesSubplot at 0x25a87abdb20>"
      ]
     },
     "execution_count": 55,
     "metadata": {},
     "output_type": "execute_result"
    },
    {
     "data": {
      "image/png": "[encoded data removed]",
      "text/plain": [
       "<Figure size 432x288 with 1 Axes>"
      ]
     },
     "metadata": {
      "needs_background": "light"
     },
     "output_type": "display_data"
    }
   ],
   "source": [
    "keys = list(average_ratings.keys())\n",
    "# get values in the same order as keys, and parse percentage values\n",
    "vals = [average_ratings[k] for k in keys]\n",
    "sns.barplot(x=keys, y=vals)"
   ]
  },
  {
   "cell_type": "markdown",
   "metadata": {},
   "source": [
    "### Visualization containing one quantitative and one categorical variable - Average Rating by genre"
   ]
  },
  {
   "cell_type": "code",
   "execution_count": 57,
   "metadata": {},
   "outputs": [
    {
     "data": {
      "image/png": "[encoded data removed]",
      "text/plain": [
       "<Figure size 864x432 with 1 Axes>"
      ]
     },
     "metadata": {
      "needs_background": "light"
     },
     "output_type": "display_data"
    }
   ],
   "source": [
    "import matplotlib.pyplot as plt\n",
    "\n",
    "plt.figure(figsize=(12, 6))\n",
    "chart = sns.barplot(x=keys, y=vals, palette=sns.color_palette(\"deep\", n_colors=len(keys)))\n",
    "chart.set_xticklabels(chart.get_xticklabels(), rotation=45, horizontalalignment='right')\n",
    "plt.show()"
   ]
  },
  {
   "cell_type": "code",
   "execution_count": null,
   "metadata": {},
   "outputs": [],
   "source": []
  },
  {
   "cell_type": "markdown",
   "metadata": {},
   "source": [
    "# Next Steps\n",
    "1. When running pd.read_csv, use the file name variable instead of hard coded name.(Andrew) (Finished)\n",
    "1. Rename variables for dataframes (_df for dataframes) (Andrew) (Finished)\n",
    "1. For decades, print it out a second time by decade. (Joe)\n",
    "1. for decades, lets print out a line graph by decade.(Joe)\n",
    "1. before each block of code, add a markdown to explain what is happening.(Andrew) (Finished)\n",
    "1. average rating by actor(Joe Optional)\n",
    "1. Idenitfy the three different visualizations we need. (Andrew)\n",
    "   - Visualization containing two quantitative variables (Joe) (Line Graph-rating by decade)\n",
    "   - Visualization containing one quantitative and one categorical variable (Joe) (Bar Graph-Count by genre/Rating by genre)\n",
    "   - Visualization containing distribution information of quantitative variable(s) (Joe) (Scatter plot/Linerar Regression-rating by year?)\n",
    "1. We are only using two CSV files currently and we need to be using three\n",
    "    - Find out how to make average rating by actor work\n",
    "    - If we cannot, discuss new tables we want to compare.\n",
    "1. Power BI dashboard (Optional) (Andrew)\n"
   ]
  },
  {
   "cell_type": "code",
   "execution_count": null,
   "metadata": {},
   "outputs": [],
   "source": []
  }
 ],
 "metadata": {
  "kernelspec": {
   "display_name": "Python 3",
   "language": "python",
   "name": "python3"
  },
  "language_info": {
   "codemirror_mode": {
    "name": "ipython",
    "version": 3
   },
   "file_extension": ".py",
   "mimetype": "text/x-python",
   "name": "python",
   "nbconvert_exporter": "python",
   "pygments_lexer": "ipython3",
   "version": "3.8.3"
  }
 },
 "nbformat": 4,
 "nbformat_minor": 5
}
