{
 "cells": [
  {
   "cell_type": "markdown",
   "id": "ff63fc03",
   "metadata": {},
   "source": [
    "# Grand Circus Capstrone Project 002\n",
    "### Andrew & Joe's Data Analysis\n",
    "![](https://upload.wikimedia.org/wikipedia/commons/thumb/6/69/IMDB_Logo_2016.svg/220px-IMDB_Logo_2016.svg.png)\n",
    "\n",
    "IMDB MOVIES/SHOWS REPORT\n",
    "\n",
    "Files available:\n",
    "- **name.basics.tsv**\n",
    "- title.akas.tsv\n",
    "- **title.basics.tsv**\n",
    "- title.crew.tsv\n",
    "- title.episode.tsv\n",
    "- title.principals.tsv\n",
    "- **title.ratings.tsv**"
   ]
  },
  {
   "cell_type": "markdown",
   "id": "9a37cae3",
   "metadata": {},
   "source": [
    "### Imports"
   ]
  },
  {
   "cell_type": "code",
   "execution_count": 1,
   "id": "292bdd46",
   "metadata": {},
   "outputs": [],
   "source": [
    "import pandas as pd\n",
    "import numpy as np\n",
    "import seaborn as sns\n",
    "import matplotlib.pyplot as plt"
   ]
  },
  {
   "cell_type": "markdown",
   "id": "1b116ab5",
   "metadata": {},
   "source": [
    "### Setting up File Location Variables"
   ]
  },
  {
   "cell_type": "code",
   "execution_count": 2,
   "id": "3abd2ada",
   "metadata": {},
   "outputs": [
    {
     "name": "stdout",
     "output_type": "stream",
     "text": [
      "C:\\Users\\j\\Downloads\\Day039Data\\name.basics.tsv\n",
      "C:\\Users\\j\\Downloads\\Day039Data\\title.akas.tsv\n",
      "C:\\Users\\j\\Downloads\\Day039Data\\title.basics.tsv\n",
      "C:\\Users\\j\\Downloads\\Day039Data\\title.crew.tsv\n",
      "C:\\Users\\j\\Downloads\\Day039Data\\title.episode.tsv\n",
      "C:\\Users\\j\\Downloads\\Day039Data\\title.principals.tsv\n",
      "C:\\Users\\j\\Downloads\\Day039Data\\title.ratings.tsv\n"
     ]
    }
   ],
   "source": [
    "#   Set the location of the files.\n",
    "file_location = r\"C:\\Users\\j\\Downloads\\Day039Data\"\n",
    "\n",
    "# Now add the names of the files to the location...\n",
    "file1 = file_location + \"\\\\name.basics.tsv\"\n",
    "file2 = file_location + \"\\\\title.akas.tsv\"\n",
    "file3 = file_location + \"\\\\title.basics.tsv\"\n",
    "file4 = file_location + \"\\\\title.crew.tsv\"\n",
    "file5 = file_location + \"\\\\title.episode.tsv\"\n",
    "file6 = file_location + \"\\\\title.principals.tsv\"\n",
    "file7 = file_location + \"\\\\title.ratings.tsv\"\n",
    "\n",
    "# #   Joe's paths...\n",
    "# file1 = r'C:\\Users\\JMerten\\OneDrive - KNEX\\Downloads\\DA2\\name.basics.tsv/data.tsv'\n",
    "# file2 = r'C:\\Users\\JMerten\\OneDrive - KNEX\\Downloads\\DA2\\title.akas.tsv/data.tsv'\n",
    "# file3 = r'C:\\Users\\JMerten\\OneDrive - KNEX\\Downloads\\DA2\\title.basics.tsv/data.tsv'\n",
    "# file4 = r'C:\\Users\\JMerten\\OneDrive - KNEX\\Downloads\\DA2\\title.crew.tsv/data.tsv'\n",
    "# file5 = r'C:\\Users\\JMerten\\OneDrive - KNEX\\Downloads\\DA2\\title.episode.tsv/data.tsv'\n",
    "# file6 = r'C:\\Users\\JMerten\\OneDrive - KNEX\\Downloads\\DA2\\title.principals.tsv/data.tsv'\n",
    "# file7 = r'C:\\Users\\JMerten\\OneDrive - KNEX\\Downloads\\DA2\\title.ratings.tsv/data.tsv'\n",
    "\n",
    "#   Andrew's paths\n",
    "# file1 = 'name.basics.tsv/data.tsv'\n",
    "# file2 = 'title.akas.tsv/data.tsv'\n",
    "# file3 = 'title.basics.tsv/data.tsv'\n",
    "# file4 = 'title.crew.tsv/data.tsv'\n",
    "# file5 = 'title.episode.tsv/data.tsv'\n",
    "# file6 = 'title.principals.tsv/data.tsv'\n",
    "# file7 = 'title.ratings.tsv/data.tsv'\n",
    "\n",
    "print(file1)\n",
    "print(file2)\n",
    "print(file3)\n",
    "print(file4)\n",
    "print(file5)\n",
    "print(file6)\n",
    "print(file7)\n"
   ]
  },
  {
   "cell_type": "markdown",
   "id": "9cce7573",
   "metadata": {},
   "source": [
    "## Reading in title.basics.tsv, name.basics.tsv and title.ratings.tsv\n",
    "- movies_df = title.basics.tsv = file3\n",
    "- ratings_df = title.ratings.tsv = file7\n",
    "- actors_df = name.basics = file1"
   ]
  },
  {
   "cell_type": "code",
   "execution_count": 3,
   "id": "6fcb63bf",
   "metadata": {},
   "outputs": [
    {
     "name": "stderr",
     "output_type": "stream",
     "text": [
      "C:\\Users\\j\\AppData\\Local\\Temp\\ipykernel_13076\\2946145977.py:2: DtypeWarning: Columns (4) have mixed types. Specify dtype option on import or set low_memory=False.\n",
      "  movies_df = pd.read_csv(file3, sep='\\t')\n"
     ]
    }
   ],
   "source": [
    "#   Column 4 from file3 is [isAdult] which we are not using, so we are not concerned about the DtypeWarning.\n",
    "movies_df = pd.read_csv(file3, sep='\\t')\n",
    "ratings_df = pd.read_csv(file7, sep='\\t')\n",
    "actors_df = pd.read_csv(file1, sep='\\t')"
   ]
  },
  {
   "cell_type": "markdown",
   "id": "a31cb68f",
   "metadata": {},
   "source": [
    "## Filter Movies and Remove Those Missing Genre Information"
   ]
  },
  {
   "cell_type": "code",
   "execution_count": 4,
   "id": "486662f9",
   "metadata": {},
   "outputs": [],
   "source": [
    "# movies_df = pd.read_csv(file3, sep='\\t')\n",
    "movies_df = movies_df[movies_df['titleType'] == 'movie']  # Filter the DataFrame to include only movies (titleType == 'movie')\n",
    "\n",
    "# Remove rows with missing genre information\n",
    "movies_df = movies_df.dropna(subset=['genres'])"
   ]
  },
  {
   "cell_type": "markdown",
   "id": "d1222085",
   "metadata": {},
   "source": [
    "## Count Genres in Movies DataFrame using a loop and dictionary.\n"
   ]
  },
  {
   "cell_type": "code",
   "execution_count": 5,
   "id": "dc9866eb",
   "metadata": {},
   "outputs": [],
   "source": [
    "# Create a dictionary to store genre counts\n",
    "genre_counts = {}\n",
    "\n",
    "# Iterate over each row and count the genres\n",
    "for genres in movies_df['genres']:\n",
    "    genre_list = genres.split(',')\n",
    "    for genre in genre_list:\n",
    "        genre_counts[genre] = genre_counts.get(genre, 0) + 1\n"
   ]
  },
  {
   "cell_type": "markdown",
   "id": "3882f2cd",
   "metadata": {},
   "source": [
    "   ## Question 1. What are the Most Popular Genres?\n"
   ]
  },
  {
   "cell_type": "code",
   "execution_count": 6,
   "id": "c17a8767",
   "metadata": {},
   "outputs": [
    {
     "name": "stdout",
     "output_type": "stream",
     "text": [
      "The most popular genre is Drama with a count of 234308.\n",
      "{'Romance': 47318, 'Documentary': 122520, 'News': 1446, 'Sport': 7110, '\\\\N': 72148, 'Action': 53896, 'Adventure': 28089, 'Biography': 17263, 'Drama': 234308, 'Fantasy': 15341, 'Comedy': 109216, 'War': 9280, 'Crime': 37236, 'Family': 17671, 'History': 14265, 'Sci-Fi': 13928, 'Thriller': 44733, 'Western': 8153, 'Mystery': 17011, 'Horror': 37010, 'Music': 13628, 'Animation': 9099, 'Musical': 10233, 'Film-Noir': 881, 'Adult': 9243, 'Reality-TV': 515, 'Talk-Show': 175, 'Short': 47, 'Game-Show': 26}\n"
     ]
    }
   ],
   "source": [
    "# Find the genre with the highest count\n",
    "most_popular_genre = max(genre_counts, key=genre_counts.get)\n",
    "count = genre_counts[most_popular_genre]\n",
    "\n",
    "print(f\"The most popular genre is {most_popular_genre} with a count of {count}.\")\n",
    "print(genre_counts)\n"
   ]
  },
  {
   "cell_type": "code",
   "execution_count": 7,
   "id": "49a0d251-2754-4f99-b6f6-38223dbaa1bd",
   "metadata": {},
   "outputs": [
    {
     "data": {
      "image/png": "[encoded data removed]",
      "text/plain": [
       "<Figure size 1200x600 with 1 Axes>"
      ]
     },
     "metadata": {},
     "output_type": "display_data"
    }
   ],
   "source": [
    "keys = list(genre_counts.keys())\n",
    "# get values in the same order as keys, and parse percentage values\n",
    "vals = [genre_counts[k] for k in keys]\n",
    "\n",
    "plt.figure(figsize=(12, 6))\n",
    "chart = sns.barplot(x=keys, y=vals, palette=sns.color_palette(\"deep\", n_colors=len(keys)))\n",
    "chart.set_xticklabels(chart.get_xticklabels(), rotation=45, horizontalalignment='right')\n",
    "plt.title(\"Popularity of genres based on the count of movies in each genre\")\n",
    "plt.show()"
   ]
  },
  {
   "cell_type": "markdown",
   "id": "c6217bfb",
   "metadata": {},
   "source": [
    "##### The resulting chart is a bar plot showing the counts of each genre. Each genre is represented by a bar, and the height of the bar corresponds to the count. The x-axis displays the genres, and the y-axis represents the count values. The chart provides a visual representation of the popularity  of each genre. By looking at this graph we can conclude that Drama is the most popular genre."
   ]
  },
  {
   "cell_type": "markdown",
   "id": "9db6e142",
   "metadata": {},
   "source": [
    "## Merge DataFrames\n"
   ]
  },
  {
   "cell_type": "code",
   "execution_count": 8,
   "id": "b8cd1908",
   "metadata": {},
   "outputs": [],
   "source": [
    "# Merge basics_df and ratings_df on the 'tconst' column\n",
    "merged_df = pd.merge(movies_df, ratings_df, on='tconst')\n"
   ]
  },
  {
   "cell_type": "markdown",
   "id": "2b3204a1",
   "metadata": {},
   "source": [
    "## Filter MERGED Movies and Remove Missing Information"
   ]
  },
  {
   "cell_type": "code",
   "execution_count": 9,
   "id": "c4b59d17",
   "metadata": {},
   "outputs": [],
   "source": [
    "# Filter the merged DataFrame to include only movies (titleType == 'movie')\n",
    "movies_df = merged_df[merged_df['titleType'] == 'movie']\n",
    "\n",
    "# Remove rows with missing genre or rating information\n",
    "movies_df = movies_df.dropna(subset=['genres', 'averageRating'])\n"
   ]
  },
  {
   "cell_type": "markdown",
   "id": "a9d3a37d",
   "metadata": {},
   "source": [
    "## Calculate Genre Ratings"
   ]
  },
  {
   "cell_type": "code",
   "execution_count": 10,
   "id": "852dc417",
   "metadata": {},
   "outputs": [],
   "source": [
    "# Create a dictionary to store genre ratings\n",
    "genre_ratings = {}\n",
    "\n",
    "# Iterate over each row and calculate the average rating for each genre\n",
    "for index, row in movies_df.iterrows():\n",
    "    genres = row['genres'].split(',')\n",
    "    rating = row['averageRating']\n",
    "    \n",
    "    for genre in genres:\n",
    "        if genre in genre_ratings:\n",
    "            genre_ratings[genre].append(rating)\n",
    "        else:\n",
    "            genre_ratings[genre] = [rating]\n"
   ]
  },
  {
   "cell_type": "code",
   "execution_count": 11,
   "id": "9fbe9a06",
   "metadata": {},
   "outputs": [
    {
     "name": "stdout",
     "output_type": "stream",
     "text": [
      "The highest rated genre is Game-Show with an average rating of 8.9.\n"
     ]
    }
   ],
   "source": [
    "# Calculate the average rating for each genre\n",
    "average_ratings = {genre: sum(ratings) / len(ratings) for genre, ratings in genre_ratings.items()}\n",
    "\n",
    "# Find the genre with the highest average rating\n",
    "highest_rated_genre = max(average_ratings, key=average_ratings.get)\n",
    "average_rating = average_ratings[highest_rated_genre]\n",
    "\n",
    "print(f\"The highest rated genre is {highest_rated_genre} with an average rating of {average_rating}.\")\n"
   ]
  },
  {
   "cell_type": "markdown",
   "id": "93580afc",
   "metadata": {},
   "source": [
    "## Filter Movies and Remove Missing Data\n"
   ]
  },
  {
   "cell_type": "code",
   "execution_count": 12,
   "id": "393f15f9",
   "metadata": {},
   "outputs": [],
   "source": [
    "# Filter the merged DataFrame to include only movies (titleType == 'movie')\n",
    "movies_df = merged_df[merged_df['titleType'] == 'movie']\n",
    "\n",
    "# Remove rows with missing startYear or averageRating information\n",
    "movies_df = movies_df.dropna(subset=['startYear', 'averageRating'])\n"
   ]
  },
  {
   "cell_type": "markdown",
   "id": "cbf82813",
   "metadata": {},
   "source": [
    "## Create a new 'decade' column by rounding down the 'startYear' to the nearest 10\n"
   ]
  },
  {
   "cell_type": "code",
   "execution_count": 13,
   "id": "9353696f",
   "metadata": {},
   "outputs": [],
   "source": [
    "# Convert the 'startYear' column to numeric\n",
    "movies_df['startYear'] = pd.to_numeric(movies_df['startYear'], errors='coerce')\n",
    "\n",
    "# Create a new 'decade' column by rounding down the 'startYear' to the nearest 10\n",
    "movies_df['decade'] = (movies_df['startYear'] // 10) * 10\n"
   ]
  },
  {
   "cell_type": "markdown",
   "id": "6b0912ed",
   "metadata": {},
   "source": [
    "## Group the DataFrame by 'decade' and calculate the average rating\n"
   ]
  },
  {
   "cell_type": "code",
   "execution_count": 14,
   "id": "50e84a6c",
   "metadata": {},
   "outputs": [],
   "source": [
    "average_ratings_by_decade = movies_df.groupby('decade')['averageRating'].mean()\n",
    "decade_rating_df = average_ratings_by_decade.to_frame()"
   ]
  },
  {
   "cell_type": "markdown",
   "id": "5fbb1734",
   "metadata": {},
   "source": [
    "## Print the average ratings by decade - sorted by decade."
   ]
  },
  {
   "cell_type": "code",
   "execution_count": 15,
   "id": "8cc52edb",
   "metadata": {},
   "outputs": [
    {
     "name": "stdout",
     "output_type": "stream",
     "text": [
      "decade\n",
      "1890.0    4.450000\n",
      "1900.0    4.465060\n",
      "1910.0    5.795373\n",
      "1920.0    6.106548\n",
      "1930.0    6.093511\n",
      "1940.0    6.209465\n",
      "1950.0    6.216173\n",
      "1960.0    6.149112\n",
      "1970.0    5.961352\n",
      "1980.0    6.014528\n",
      "1990.0    6.031436\n",
      "2000.0    6.206385\n",
      "2010.0    6.243354\n",
      "2020.0    6.383182\n",
      "Name: averageRating, dtype: float64\n"
     ]
    }
   ],
   "source": [
    "#   sorted(average_ratings_by_decade.keys())\n",
    "print(average_ratings_by_decade)"
   ]
  },
  {
   "cell_type": "markdown",
   "id": "42ab758d",
   "metadata": {},
   "source": [
    "### Print the average ratings by decade - sorted by rating."
   ]
  },
  {
   "cell_type": "code",
   "execution_count": 16,
   "id": "d9fcb314",
   "metadata": {},
   "outputs": [
    {
     "name": "stdout",
     "output_type": "stream",
     "text": [
      "decade\n",
      "2020.0    6.383182\n",
      "2010.0    6.243354\n",
      "2000.0    6.206385\n",
      "1990.0    6.031436\n",
      "1980.0    6.014528\n",
      "1970.0    5.961352\n",
      "1960.0    6.149112\n",
      "1950.0    6.216173\n",
      "1940.0    6.209465\n",
      "1930.0    6.093511\n",
      "1920.0    6.106548\n",
      "1910.0    5.795373\n",
      "1900.0    4.465060\n",
      "1890.0    4.450000\n",
      "Name: averageRating, dtype: float64\n"
     ]
    }
   ],
   "source": [
    "print(average_ratings_by_decade.sort_index(ascending=False))"
   ]
  },
  {
   "cell_type": "markdown",
   "id": "0e61e31e",
   "metadata": {},
   "source": [
    "### Print the average ratings by decade - sorted by decade."
   ]
  },
  {
   "cell_type": "code",
   "execution_count": 17,
   "id": "782fc2b3",
   "metadata": {},
   "outputs": [
    {
     "name": "stdout",
     "output_type": "stream",
     "text": [
      "<class 'pandas.core.frame.DataFrame'>\n",
      "        averageRating\n",
      "decade               \n",
      "1890.0       4.450000\n",
      "1900.0       4.465060\n",
      "1910.0       5.795373\n",
      "1920.0       6.106548\n",
      "1930.0       6.093511\n",
      "1940.0       6.209465\n",
      "1950.0       6.216173\n",
      "1960.0       6.149112\n",
      "1970.0       5.961352\n",
      "1980.0       6.014528\n",
      "1990.0       6.031436\n",
      "2000.0       6.206385\n",
      "2010.0       6.243354\n",
      "2020.0       6.383182\n"
     ]
    }
   ],
   "source": [
    "print(type(decade_rating_df))\n",
    "print(decade_rating_df)"
   ]
  },
  {
   "cell_type": "markdown",
   "id": "f2c640cc-59cc-479f-b39a-c6a48be97177",
   "metadata": {},
   "source": [
    " ### Question 2. How did movie ratings change through the decades?"
   ]
  },
  {
   "cell_type": "code",
   "execution_count": 18,
   "id": "a000e399",
   "metadata": {},
   "outputs": [
    {
     "data": {
      "text/plain": [
       "<AxesSubplot: xlabel='decade', ylabel='averageRating'>"
      ]
     },
     "execution_count": 18,
     "metadata": {},
     "output_type": "execute_result"
    },
    {
     "data": {
      "image/png": "[encoded data removed]",
      "text/plain": [
       "<Figure size 640x480 with 1 Axes>"
      ]
     },
     "metadata": {},
     "output_type": "display_data"
    }
   ],
   "source": [
    "sns.lineplot(\n",
    "    average_ratings_by_decade\n",
    ")"
   ]
  },
  {
   "cell_type": "markdown",
   "id": "1bb4e635",
   "metadata": {},
   "source": [
    "##### The line graph shows the average ratings of movies over different decades. The x-axis represents the decades, while the y-axis represents the average rating. From the graph, we can observe the trend in movie ratings over time. The graph shows how the average rating has changed over time, indicating the overall perception of movie quality. Movies prior to 1920 are not well rated, movies after that time have varying rate."
   ]
  },
  {
   "cell_type": "markdown",
   "id": "aa2d5455",
   "metadata": {},
   "source": [
    "### Visualization containing one quantitative and one categorical variable - Average Rating by genre - SETUP"
   ]
  },
  {
   "cell_type": "code",
   "execution_count": 19,
   "id": "801d4d68",
   "metadata": {},
   "outputs": [
    {
     "name": "stdout",
     "output_type": "stream",
     "text": [
      "{'Romance': 6.101201044386466, 'Documentary': 7.230423280423228, 'News': 7.21793313069908, 'Sport': 6.623001402524556, '\\\\N': 6.190131254317589, 'Action': 5.716132666247041, 'Adventure': 5.866273261239547, 'Biography': 6.961319920406795, 'Drama': 6.2512486988761875, 'Fantasy': 5.897194457064985, 'Comedy': 5.910983590612819, 'War': 6.409575340219739, 'Crime': 5.986335109532268, 'Family': 6.215616972273883, 'History': 6.810712524654867, 'Sci-Fi': 5.329512478235644, 'Thriller': 5.603034646572213, 'Western': 5.81935547647291, 'Mystery': 5.858538984263231, 'Horror': 5.003914117423522, 'Music': 6.682187730968262, 'Animation': 6.373674841772148, 'Musical': 6.180018805829807, 'Film-Noir': 6.466211604095564, 'Adult': 5.567387304507812, 'Reality-TV': 6.533962264150944, 'Talk-Show': 6.278571428571428, 'Short': 7.16875, 'Game-Show': 8.9}\n",
      "<class 'dict'>\n"
     ]
    }
   ],
   "source": [
    "print(average_ratings)\n",
    "print(type(average_ratings))"
   ]
  },
  {
   "cell_type": "markdown",
   "id": "21c0f3fb",
   "metadata": {},
   "source": [
    "###   Question 3. Highest Average Rating by genre\n",
    "Visualization containing one quantitative and one categorical variable"
   ]
  },
  {
   "cell_type": "code",
   "execution_count": 20,
   "id": "88ca7b16-72bc-45ac-8e20-1050f5060c2c",
   "metadata": {},
   "outputs": [],
   "source": [
    "keys = list(average_ratings.keys())\n",
    "# get values in the same order as keys, and parse percentage values\n",
    "vals = [average_ratings[k] for k in keys]\n"
   ]
  },
  {
   "cell_type": "code",
   "execution_count": 21,
   "id": "a365555f",
   "metadata": {},
   "outputs": [
    {
     "data": {
      "image/png": "[encoded data removed]",
      "text/plain": [
       "<Figure size 1200x600 with 1 Axes>"
      ]
     },
     "metadata": {},
     "output_type": "display_data"
    }
   ],
   "source": [
    "plt.figure(figsize=(12, 6))\n",
    "chart = sns.barplot(x=keys, y=vals, palette=sns.color_palette(\"deep\", n_colors=len(keys)))\n",
    "chart.set_xticklabels(chart.get_xticklabels(), rotation=45, horizontalalignment='right')\n",
    "plt.show()"
   ]
  },
  {
   "cell_type": "markdown",
   "id": "f6b4d857",
   "metadata": {},
   "source": [
    "##### The graph provides a clear overview of the highest rated genres, allowing you to identify those with a higher average ratings. It can help you make informed decisions or gain insights about the preferences of viewers based on how they rated each genre. Game-Show is the highest rated."
   ]
  },
  {
   "cell_type": "markdown",
   "id": "cf39a728-5937-412a-855d-c278e24db564",
   "metadata": {},
   "source": [
    "### By decade, who was the most popular actor/actress?"
   ]
  },
  {
   "cell_type": "code",
   "execution_count": 22,
   "id": "4050ee90-51a6-44ac-bedf-6a070d3cb93c",
   "metadata": {},
   "outputs": [
    {
     "name": "stdout",
     "output_type": "stream",
     "text": [
      "       nconst          primaryName birthYear deathYear  \\\n",
      "0   nm0000001         Fred Astaire      1899      1987   \n",
      "1   nm0000002        Lauren Bacall      1924      2014   \n",
      "2   nm0000003      Brigitte Bardot      1934        \\N   \n",
      "3   nm0000004         John Belushi      1949      1982   \n",
      "4   nm0000005       Ingmar Bergman      1918      2007   \n",
      "5   nm0000006       Ingrid Bergman      1915      1982   \n",
      "6   nm0000007      Humphrey Bogart      1899      1957   \n",
      "7   nm0000008        Marlon Brando      1924      2004   \n",
      "8   nm0000009       Richard Burton      1925      1984   \n",
      "9   nm0000010         James Cagney      1899      1986   \n",
      "10  nm0000011          Gary Cooper      1901      1961   \n",
      "11  nm0000012          Bette Davis      1908      1989   \n",
      "12  nm0000013            Doris Day      1922      2019   \n",
      "13  nm0000014  Olivia de Havilland      1916      2020   \n",
      "14  nm0000015           James Dean      1931      1955   \n",
      "15  nm0000016      Georges Delerue      1925      1992   \n",
      "16  nm0000017     Marlene Dietrich      1901      1992   \n",
      "17  nm0000018         Kirk Douglas      1916      2020   \n",
      "18  nm0000019     Federico Fellini      1920      1993   \n",
      "19  nm0000020          Henry Fonda      1905      1982   \n",
      "\n",
      "                        primaryProfession  \\\n",
      "0          soundtrack,actor,miscellaneous   \n",
      "1                      actress,soundtrack   \n",
      "2     actress,soundtrack,music_department   \n",
      "3                 actor,soundtrack,writer   \n",
      "4                   writer,director,actor   \n",
      "5             actress,soundtrack,producer   \n",
      "6               actor,soundtrack,producer   \n",
      "7               actor,soundtrack,director   \n",
      "8               actor,soundtrack,producer   \n",
      "9               actor,soundtrack,director   \n",
      "10                actor,soundtrack,stunts   \n",
      "11  actress,soundtrack,make_up_department   \n",
      "12            soundtrack,actress,producer   \n",
      "13                     actress,soundtrack   \n",
      "14                    actor,miscellaneous   \n",
      "15   composer,soundtrack,music_department   \n",
      "16    soundtrack,actress,music_department   \n",
      "17              actor,producer,soundtrack   \n",
      "18                  writer,director,actor   \n",
      "19              actor,producer,soundtrack   \n",
      "\n",
      "                             knownForTitles  \n",
      "0   tt0053137,tt0072308,tt0050419,tt0045537  \n",
      "1   tt0075213,tt0038355,tt0037382,tt0117057  \n",
      "2   tt0054452,tt0057345,tt0049189,tt0056404  \n",
      "3   tt0080455,tt0072562,tt0077975,tt0078723  \n",
      "4   tt0050986,tt0050976,tt0060827,tt0069467  \n",
      "5   tt0038109,tt0034583,tt0036855,tt0038787  \n",
      "6   tt0034583,tt0043265,tt0042593,tt0037382  \n",
      "7   tt0068646,tt0078788,tt0047296,tt0070849  \n",
      "8   tt0059749,tt0061184,tt0087803,tt0057877  \n",
      "9   tt0035575,tt0031867,tt0042041,tt0029870  \n",
      "10  tt0044706,tt0035896,tt0034167,tt0027996  \n",
      "11  tt0031210,tt0035140,tt0042192,tt0056687  \n",
      "12  tt0053172,tt0048317,tt0045591,tt0049470  \n",
      "13  tt0041452,tt0040806,tt0029843,tt0031381  \n",
      "14  tt0048028,tt0120956,tt0049261,tt0048545  \n",
      "15  tt0091763,tt8847712,tt0069946,tt0096320  \n",
      "16  tt0055031,tt0052311,tt0051201,tt0021156  \n",
      "17  tt0049456,tt0054331,tt0050825,tt0043338  \n",
      "18  tt0071129,tt0056801,tt0050783,tt0047528  \n",
      "19  tt0082846,tt0032551,tt0051207,tt0050083  \n",
      "1.5.3\n"
     ]
    }
   ],
   "source": [
    "#  Then split the CSV into rows\n",
    "#  df['Seatblocks'].str.split(' ').apply(Series, 1).stack()\n",
    "# actor_movie_df = actors_df['knownForTitles'].str.split(',').apply(axis=1).stack()\n",
    "\n",
    "# actor_movie_df = actors_df['knownForTitles'].apply(str.split(','), axis=1).stack()\n",
    "print(actors_df.head(20))\n",
    "print(pd.__version__)"
   ]
  },
  {
   "cell_type": "code",
   "execution_count": 23,
   "id": "4751c185-29f6-49f2-86a5-140eee7f8581",
   "metadata": {},
   "outputs": [
    {
     "name": "stdout",
     "output_type": "stream",
     "text": [
      "       nconst          primaryName birthYear deathYear  \\\n",
      "0   nm0000001         Fred Astaire      1899      1987   \n",
      "1   nm0000002        Lauren Bacall      1924      2014   \n",
      "2   nm0000003      Brigitte Bardot      1934        \\N   \n",
      "3   nm0000004         John Belushi      1949      1982   \n",
      "4   nm0000005       Ingmar Bergman      1918      2007   \n",
      "5   nm0000006       Ingrid Bergman      1915      1982   \n",
      "6   nm0000007      Humphrey Bogart      1899      1957   \n",
      "7   nm0000008        Marlon Brando      1924      2004   \n",
      "8   nm0000009       Richard Burton      1925      1984   \n",
      "9   nm0000010         James Cagney      1899      1986   \n",
      "10  nm0000011          Gary Cooper      1901      1961   \n",
      "11  nm0000012          Bette Davis      1908      1989   \n",
      "12  nm0000013            Doris Day      1922      2019   \n",
      "13  nm0000014  Olivia de Havilland      1916      2020   \n",
      "14  nm0000015           James Dean      1931      1955   \n",
      "15  nm0000016      Georges Delerue      1925      1992   \n",
      "16  nm0000017     Marlene Dietrich      1901      1992   \n",
      "17  nm0000018         Kirk Douglas      1916      2020   \n",
      "18  nm0000019     Federico Fellini      1920      1993   \n",
      "19  nm0000020          Henry Fonda      1905      1982   \n",
      "\n",
      "                        primaryProfession  \\\n",
      "0          soundtrack,actor,miscellaneous   \n",
      "1                      actress,soundtrack   \n",
      "2     actress,soundtrack,music_department   \n",
      "3                 actor,soundtrack,writer   \n",
      "4                   writer,director,actor   \n",
      "5             actress,soundtrack,producer   \n",
      "6               actor,soundtrack,producer   \n",
      "7               actor,soundtrack,director   \n",
      "8               actor,soundtrack,producer   \n",
      "9               actor,soundtrack,director   \n",
      "10                actor,soundtrack,stunts   \n",
      "11  actress,soundtrack,make_up_department   \n",
      "12            soundtrack,actress,producer   \n",
      "13                     actress,soundtrack   \n",
      "14                    actor,miscellaneous   \n",
      "15   composer,soundtrack,music_department   \n",
      "16    soundtrack,actress,music_department   \n",
      "17              actor,producer,soundtrack   \n",
      "18                  writer,director,actor   \n",
      "19              actor,producer,soundtrack   \n",
      "\n",
      "                             knownForTitles  \n",
      "0   tt0053137,tt0072308,tt0050419,tt0045537  \n",
      "1   tt0075213,tt0038355,tt0037382,tt0117057  \n",
      "2   tt0054452,tt0057345,tt0049189,tt0056404  \n",
      "3   tt0080455,tt0072562,tt0077975,tt0078723  \n",
      "4   tt0050986,tt0050976,tt0060827,tt0069467  \n",
      "5   tt0038109,tt0034583,tt0036855,tt0038787  \n",
      "6   tt0034583,tt0043265,tt0042593,tt0037382  \n",
      "7   tt0068646,tt0078788,tt0047296,tt0070849  \n",
      "8   tt0059749,tt0061184,tt0087803,tt0057877  \n",
      "9   tt0035575,tt0031867,tt0042041,tt0029870  \n",
      "10  tt0044706,tt0035896,tt0034167,tt0027996  \n",
      "11  tt0031210,tt0035140,tt0042192,tt0056687  \n",
      "12  tt0053172,tt0048317,tt0045591,tt0049470  \n",
      "13  tt0041452,tt0040806,tt0029843,tt0031381  \n",
      "14  tt0048028,tt0120956,tt0049261,tt0048545  \n",
      "15  tt0091763,tt8847712,tt0069946,tt0096320  \n",
      "16  tt0055031,tt0052311,tt0051201,tt0021156  \n",
      "17  tt0049456,tt0054331,tt0050825,tt0043338  \n",
      "18  tt0071129,tt0056801,tt0050783,tt0047528  \n",
      "19  tt0082846,tt0032551,tt0051207,tt0050083  \n"
     ]
    }
   ],
   "source": [
    " # xref_df = actors_df['knownForTitles'].str.split(',')\n",
    "# actors_df.explode(list(actors_df['knownForTitles'].str.split(',')))\n",
    "# xref_df\n",
    "\n",
    "#   Create a smaller copy to work with...\n",
    "small_df = actors_df.head(20)\n",
    "print(small_df)"
   ]
  },
  {
   "cell_type": "code",
   "execution_count": 24,
   "id": "090406d0-e062-4fc5-b492-6dc0cc348817",
   "metadata": {},
   "outputs": [
    {
     "data": {
      "text/plain": [
       "(12548289, 3)"
      ]
     },
     "execution_count": 24,
     "metadata": {},
     "output_type": "execute_result"
    }
   ],
   "source": [
    "# small_df['knownForTitles'] = small_df['knownForTitles'].map(str)\n",
    "# small_df['title_list'] = small_df['knownForTitles'].str.split(\",\")\n",
    "small_df = actors_df.loc[:, [\"primaryName\",\"knownForTitles\"]]\n",
    "small_df['tconst'] = small_df['knownForTitles'].str.split(\",\")\n",
    "small_df.shape"
   ]
  },
  {
   "cell_type": "code",
   "execution_count": 34,
   "id": "7ce3b7ad-1dbe-40b7-b201-6adceef015e2",
   "metadata": {},
   "outputs": [
    {
     "data": {
      "text/plain": [
       "(22070636, 3)"
      ]
     },
     "execution_count": 34,
     "metadata": {},
     "output_type": "execute_result"
    }
   ],
   "source": [
    "exploded_df = small_df.explode('tconst')\n",
    "exploded_df.describe()\n",
    "exploded_df.shape"
   ]
  },
  {
   "cell_type": "markdown",
   "id": "6b7769c7-e1b2-4beb-aa25-5735c228d219",
   "metadata": {},
   "source": [
    "### We now have the titles split out by actor.  Now we join to movies_df"
   ]
  },
  {
   "cell_type": "code",
   "execution_count": 35,
   "id": "5fe856a1-df47-45cb-82c2-07eab35e0525",
   "metadata": {},
   "outputs": [
    {
     "name": "stdout",
     "output_type": "stream",
     "text": [
      "               primaryName                               knownForTitles  \\\n",
      "0             Fred Astaire      tt0053137,tt0072308,tt0050419,tt0045537   \n",
      "1              Ava Gardner      tt0046085,tt0058404,tt0053137,tt0043899   \n",
      "2              Ernest Gold     tt0053137,tt0053804,tt0057193,tt10539608   \n",
      "3           Donna Anderson     tt0053137,tt0053946,tt0077031,tt13316728   \n",
      "4          Ken Baumgartner                                    tt0053137   \n",
      "...                    ...                                          ...   \n",
      "6903969   Daniyar Alshinov  tt21379234,tt10867768,tt13294064,tt14902026   \n",
      "6903970           Dahl Lee                          tt7936336,tt8757056   \n",
      "6903971         Dongwoo Ko                tt7936336,tt8757056,tt2746314   \n",
      "6903972  Ariane Figueiredo                                    tt8742566   \n",
      "6903973        Tin Brendel              tt8742566,tt21359716,tt23633428   \n",
      "\n",
      "             tconst titleType                        primaryTitle  \\\n",
      "0         tt0053137     movie                        On the Beach   \n",
      "1         tt0053137     movie                        On the Beach   \n",
      "2         tt0053137     movie                        On the Beach   \n",
      "3         tt0053137     movie                        On the Beach   \n",
      "4         tt0053137     movie                        On the Beach   \n",
      "...             ...       ...                                 ...   \n",
      "6903969  tt13294064     movie                       Herd Immunity   \n",
      "6903970   tt8757056     movie  Tobot Movie: Attack of Robot Force   \n",
      "6903971   tt8757056     movie  Tobot Movie: Attack of Robot Force   \n",
      "6903972   tt8742566     movie                          White Spot   \n",
      "6903973   tt8742566     movie                          White Spot   \n",
      "\n",
      "                              originalTitle isAdult  startYear endYear  \\\n",
      "0                              On the Beach       0     1959.0      \\N   \n",
      "1                              On the Beach       0     1959.0      \\N   \n",
      "2                              On the Beach       0     1959.0      \\N   \n",
      "3                              On the Beach       0     1959.0      \\N   \n",
      "4                              On the Beach       0     1959.0      \\N   \n",
      "...                                     ...     ...        ...     ...   \n",
      "6903969                          Onbagandar       0     2021.0      \\N   \n",
      "6903970  Tobot Movie: Attack of Robot Force       0     2017.0      \\N   \n",
      "6903971  Tobot Movie: Attack of Robot Force       0     2017.0      \\N   \n",
      "6903972                          White Spot       0     2020.0      \\N   \n",
      "6903973                          White Spot       0     2020.0      \\N   \n",
      "\n",
      "        runtimeMinutes                       genres  averageRating  numVotes  \\\n",
      "0                  134         Drama,Romance,Sci-Fi            7.1     13826   \n",
      "1                  134         Drama,Romance,Sci-Fi            7.1     13826   \n",
      "2                  134         Drama,Romance,Sci-Fi            7.1     13826   \n",
      "3                  134         Drama,Romance,Sci-Fi            7.1     13826   \n",
      "4                  134         Drama,Romance,Sci-Fi            7.1     13826   \n",
      "...                ...                          ...            ...       ...   \n",
      "6903969             94                        Drama            6.4        22   \n",
      "6903970             \\N   Action,Adventure,Animation            8.7        37   \n",
      "6903971             \\N   Action,Adventure,Animation            8.7        37   \n",
      "6903972             92  Adventure,Documentary,Drama            4.4        20   \n",
      "6903973             92  Adventure,Documentary,Drama            4.4        20   \n",
      "\n",
      "         decade  \n",
      "0        1950.0  \n",
      "1        1950.0  \n",
      "2        1950.0  \n",
      "3        1950.0  \n",
      "4        1950.0  \n",
      "...         ...  \n",
      "6903969  2020.0  \n",
      "6903970  2010.0  \n",
      "6903971  2010.0  \n",
      "6903972  2020.0  \n",
      "6903973  2020.0  \n",
      "\n",
      "[6903974 rows x 14 columns]\n"
     ]
    }
   ],
   "source": [
    "merge_df = pd.merge(exploded_df, movies_df, on=\"tconst\")\n",
    "print(merge_df)"
   ]
  },
  {
   "cell_type": "code",
   "execution_count": 36,
   "id": "eb47ef8a-0515-47dd-ace7-86839aeca751",
   "metadata": {},
   "outputs": [
    {
     "name": "stdout",
     "output_type": "stream",
     "text": [
      "               primaryName  averageRating  startYear  decade\n",
      "0             Fred Astaire            7.1     1959.0  1960.0\n",
      "1              Ava Gardner            7.1     1959.0  1960.0\n",
      "2              Ernest Gold            7.1     1959.0  1960.0\n",
      "3           Donna Anderson            7.1     1959.0  1960.0\n",
      "4          Ken Baumgartner            7.1     1959.0  1960.0\n",
      "...                    ...            ...        ...     ...\n",
      "6903969   Daniyar Alshinov            6.4     2021.0  2020.0\n",
      "6903970           Dahl Lee            8.7     2017.0  2020.0\n",
      "6903971         Dongwoo Ko            8.7     2017.0  2020.0\n",
      "6903972  Ariane Figueiredo            4.4     2020.0  2020.0\n",
      "6903973        Tin Brendel            4.4     2020.0  2020.0\n",
      "\n",
      "[6903974 rows x 4 columns]\n"
     ]
    }
   ],
   "source": [
    "# Compute the decade by rounding\n",
    "sum_df = merge_df.loc[:, [\"primaryName\", \"averageRating\", \"startYear\"]]\n",
    "sum_df['decade'] = round(sum_df[\"startYear\"], -1)\n",
    "print(sum_df)"
   ]
  },
  {
   "cell_type": "markdown",
   "id": "4ba4a968-cf0b-4deb-af3d-e53fcd1c4fd5",
   "metadata": {},
   "source": [
    "### Get the average rating for each actor/actress by decade."
   ]
  },
  {
   "cell_type": "code",
   "execution_count": 37,
   "id": "29781558-f22a-4afe-802b-0542f1752dcf",
   "metadata": {},
   "outputs": [
    {
     "data": {
      "text/html": [
       "<div>\n",
       "<style scoped>\n",
       "    .dataframe tbody tr th:only-of-type {\n",
       "        vertical-align: middle;\n",
       "    }\n",
       "\n",
       "    .dataframe tbody tr th {\n",
       "        vertical-align: top;\n",
       "    }\n",
       "\n",
       "    .dataframe thead th {\n",
       "        text-align: right;\n",
       "    }\n",
       "</style>\n",
       "<table border=\"1\" class=\"dataframe\">\n",
       "  <thead>\n",
       "    <tr style=\"text-align: right;\">\n",
       "      <th></th>\n",
       "      <th>decade</th>\n",
       "      <th>primaryName</th>\n",
       "      <th>averageRating</th>\n",
       "      <th>startYear</th>\n",
       "    </tr>\n",
       "  </thead>\n",
       "  <tbody>\n",
       "    <tr>\n",
       "      <th>0</th>\n",
       "      <td>1890.0</td>\n",
       "      <td>Alexander Black</td>\n",
       "      <td>5.30</td>\n",
       "      <td>1894.0</td>\n",
       "    </tr>\n",
       "    <tr>\n",
       "      <th>1</th>\n",
       "      <td>1890.0</td>\n",
       "      <td>Blanche Bayliss</td>\n",
       "      <td>5.30</td>\n",
       "      <td>1894.0</td>\n",
       "    </tr>\n",
       "    <tr>\n",
       "      <th>2</th>\n",
       "      <td>1890.0</td>\n",
       "      <td>Chauncey Depew</td>\n",
       "      <td>5.30</td>\n",
       "      <td>1894.0</td>\n",
       "    </tr>\n",
       "    <tr>\n",
       "      <th>3</th>\n",
       "      <td>1890.0</td>\n",
       "      <td>William Courtenay</td>\n",
       "      <td>5.30</td>\n",
       "      <td>1894.0</td>\n",
       "    </tr>\n",
       "    <tr>\n",
       "      <th>4</th>\n",
       "      <td>1900.0</td>\n",
       "      <td>Anna Held</td>\n",
       "      <td>7.00</td>\n",
       "      <td>1901.0</td>\n",
       "    </tr>\n",
       "    <tr>\n",
       "      <th>...</th>\n",
       "      <td>...</td>\n",
       "      <td>...</td>\n",
       "      <td>...</td>\n",
       "      <td>...</td>\n",
       "    </tr>\n",
       "    <tr>\n",
       "      <th>4786032</th>\n",
       "      <td>2020.0</td>\n",
       "      <td>Þórður Hólm Hálfdánarson</td>\n",
       "      <td>5.80</td>\n",
       "      <td>2018.0</td>\n",
       "    </tr>\n",
       "    <tr>\n",
       "      <th>4786033</th>\n",
       "      <td>2020.0</td>\n",
       "      <td>Þórður Kalman Friðriksson</td>\n",
       "      <td>5.80</td>\n",
       "      <td>2018.0</td>\n",
       "    </tr>\n",
       "    <tr>\n",
       "      <th>4786034</th>\n",
       "      <td>2020.0</td>\n",
       "      <td>Þórður Karl Einarsson</td>\n",
       "      <td>5.45</td>\n",
       "      <td>2016.5</td>\n",
       "    </tr>\n",
       "    <tr>\n",
       "      <th>4786035</th>\n",
       "      <td>2020.0</td>\n",
       "      <td>Þórður Sveinbjörnsson</td>\n",
       "      <td>6.80</td>\n",
       "      <td>2019.5</td>\n",
       "    </tr>\n",
       "    <tr>\n",
       "      <th>4786036</th>\n",
       "      <td>2020.0</td>\n",
       "      <td>þórður Bogason</td>\n",
       "      <td>4.50</td>\n",
       "      <td>2020.0</td>\n",
       "    </tr>\n",
       "  </tbody>\n",
       "</table>\n",
       "<p>4786037 rows × 4 columns</p>\n",
       "</div>"
      ],
      "text/plain": [
       "         decade                primaryName  averageRating  startYear\n",
       "0        1890.0            Alexander Black           5.30     1894.0\n",
       "1        1890.0            Blanche Bayliss           5.30     1894.0\n",
       "2        1890.0             Chauncey Depew           5.30     1894.0\n",
       "3        1890.0          William Courtenay           5.30     1894.0\n",
       "4        1900.0                  Anna Held           7.00     1901.0\n",
       "...         ...                        ...            ...        ...\n",
       "4786032  2020.0   Þórður Hólm Hálfdánarson           5.80     2018.0\n",
       "4786033  2020.0  Þórður Kalman Friðriksson           5.80     2018.0\n",
       "4786034  2020.0      Þórður Karl Einarsson           5.45     2016.5\n",
       "4786035  2020.0      Þórður Sveinbjörnsson           6.80     2019.5\n",
       "4786036  2020.0             þórður Bogason           4.50     2020.0\n",
       "\n",
       "[4786037 rows x 4 columns]"
      ]
     },
     "execution_count": 37,
     "metadata": {},
     "output_type": "execute_result"
    }
   ],
   "source": [
    "# Get the average rating for each actor/actress by decade.\n",
    "decade_df = sum_df.groupby(['decade', 'primaryName'], as_index=False).mean()\n",
    "decade_df"
   ]
  },
  {
   "cell_type": "markdown",
   "id": "436c8b29-b67c-41b5-8b38-ebd9864e727c",
   "metadata": {},
   "source": [
    "### Find the actor/actress that has the max(averageRating) for each decade"
   ]
  },
  {
   "cell_type": "code",
   "execution_count": 38,
   "id": "4a56e772-e39a-45a0-a70b-e891a5b0e8fd",
   "metadata": {},
   "outputs": [
    {
     "data": {
      "text/plain": [
       "decade  primaryName              \n",
       "1890.0  Alexander Black              5.30\n",
       "        Blanche Bayliss              5.30\n",
       "        Chauncey Depew               5.30\n",
       "        William Courtenay            5.30\n",
       "1900.0  Anna Held                    7.00\n",
       "                                     ... \n",
       "2020.0  Þórður Hólm Hálfdánarson     5.80\n",
       "        Þórður Kalman Friðriksson    5.80\n",
       "        Þórður Karl Einarsson        5.45\n",
       "        Þórður Sveinbjörnsson        6.80\n",
       "        þórður Bogason               4.50\n",
       "Name: averageRating, Length: 4786037, dtype: float64"
      ]
     },
     "execution_count": 38,
     "metadata": {},
     "output_type": "execute_result"
    }
   ],
   "source": [
    "# decade_df['averageRating'].idxmax()\n",
    "# decade_df[['points', 'rebounds']].max(axis=1)\n",
    "decade_df.groupby(['decade', 'primaryName'])['averageRating'].max()"
   ]
  },
  {
   "cell_type": "code",
   "execution_count": 39,
   "id": "a74bc3b5-9826-441f-a36f-4efee26ecded",
   "metadata": {},
   "outputs": [
    {
     "data": {
      "text/plain": [
       "decade\n",
       "1890.0     5.3\n",
       "1900.0     7.0\n",
       "1910.0     9.0\n",
       "1920.0     9.2\n",
       "1930.0     9.3\n",
       "1940.0     9.7\n",
       "1950.0     9.8\n",
       "1960.0     9.8\n",
       "1970.0    10.0\n",
       "1980.0     9.8\n",
       "1990.0     9.8\n",
       "2000.0    10.0\n",
       "2010.0    10.0\n",
       "2020.0    10.0\n",
       "Name: averageRating, dtype: float64"
      ]
     },
     "execution_count": 39,
     "metadata": {},
     "output_type": "execute_result"
    }
   ],
   "source": [
    "decade_df.groupby(['decade'])['averageRating'].max()"
   ]
  },
  {
   "cell_type": "markdown",
   "id": "92f2dee1-9ea3-4b2b-bc4d-670cfadf7069",
   "metadata": {},
   "source": [
    "### Now, display the most popular actor/actress by decade based upon the movie ratings for the movies they were in."
   ]
  },
  {
   "cell_type": "code",
   "execution_count": 40,
   "id": "d2b63895-fb79-436d-83d9-e781afcc3cff",
   "metadata": {},
   "outputs": [
    {
     "name": "stdout",
     "output_type": "stream",
     "text": [
      "---===***   Most popular actor by decade based on movie ratings ***===---\n",
      "         decade                   primaryName  averageRating\n",
      "0        1890.0               Alexander Black            5.3\n",
      "4        1900.0                     Anna Held            7.0\n",
      "633      1910.0           Eleonora Mihailescu            9.0\n",
      "3302     1920.0                 Antonio Somma            9.2\n",
      "20304    1930.0           Christa Anita Brück            9.3\n",
      "56645    1940.0                    Eva Bodden            9.7\n",
      "100361   1950.0                   Anita Linda            9.8\n",
      "178095   1960.0                  Chiqui Somes            9.8\n",
      "299798   1970.0                Carol M. Burns           10.0\n",
      "473417   1980.0               Boyani Subbarao            9.8\n",
      "801706   1990.0               Chi-Chi Atienza            9.8\n",
      "1196446  2000.0                Aurora Lazagna           10.0\n",
      "1956693  2010.0             Anahid Aprahamian           10.0\n",
      "3202705  2020.0  'Stone Cold' Ralph Guastella           10.0\n"
     ]
    }
   ],
   "source": [
    "# Group by decade and primaryName, and find the maximum average rating\n",
    "max_ratings_series = decade_df.groupby(['decade', 'primaryName'])['averageRating'].max()\n",
    "\n",
    "# Convert max_ratings to a DataFrame\n",
    "max_ratings_df = max_ratings_series.to_frame(name='averageRating').reset_index()\n",
    "\n",
    "# Get the corresponding actor/actress for each maximum average rating\n",
    "actor_with_highest_rating = max_ratings_df.loc[max_ratings_df.groupby('decade')['averageRating'].idxmax()]\n",
    "highest_rated_actor = actor_with_highest_rating.loc[actor_with_highest_rating['averageRating'].idxmax()]\n",
    "\n",
    "print(\"---===***   Most popular actor by decade based on movie ratings ***===---\")\n",
    "print(actor_with_highest_rating)\n",
    "\n",
    "# print(\"Decade:\", highest_rated_actor['decade'])\n",
    "# print(\"Highest Rated Actor/Actress:\", highest_rated_actor['primaryName'])\n",
    "# print(\"Average Rating:\", highest_rated_actor['averageRating'])"
   ]
  },
  {
   "cell_type": "markdown",
   "id": "422de0e1-52a1-468b-ba3d-ccd761957ac1",
   "metadata": {},
   "source": []
  },
  {
   "cell_type": "markdown",
   "id": "5f2697ac-61e3-4127-8b71-65e52e685629",
   "metadata": {},
   "source": [
    "### Ratings of all actors by decade."
   ]
  },
  {
   "cell_type": "code",
   "execution_count": 41,
   "id": "a8857130-def0-442b-bfd9-e8117d6001e1",
   "metadata": {},
   "outputs": [
    {
     "data": {
      "image/png": "[encoded data removed]",
      "text/plain": [
       "<Figure size 640x480 with 1 Axes>"
      ]
     },
     "metadata": {},
     "output_type": "display_data"
    }
   ],
   "source": [
    "# decade_df.head(10)\n",
    "plt.scatter(decade_df['decade'], decade_df['averageRating'])\n",
    "\n",
    "plt.xlabel('Decade')\n",
    "plt.ylabel('Average Rating')\n",
    "plt.title('Actor/Actress Average Ratings per Decade')\n",
    "\n",
    "plt.xticks(rotation=45)\n",
    "\n",
    "plt.show()"
   ]
  },
  {
   "cell_type": "markdown",
   "id": "382ee167-d953-4f22-b212-6638c4b70226",
   "metadata": {},
   "source": [
    "### feedback\n",
    "- pacing\n",
    "- organization of questions/charts\n",
    "- titles\n",
    "- final coclusion\n",
    "- what is my problem/\n",
    "  - violin or box plot\n",
    "  - histogram - gradient & sort"
   ]
  },
  {
   "cell_type": "code",
   "execution_count": null,
   "id": "1dac2212-29a3-4e2c-bfd3-6ae9909eba0c",
   "metadata": {},
   "outputs": [],
   "source": []
  }
 ],
 "metadata": {
  "kernelspec": {
   "display_name": "Python 3 (ipykernel)",
   "language": "python",
   "name": "python3"
  },
  "language_info": {
   "codemirror_mode": {
    "name": "ipython",
    "version": 3
   },
   "file_extension": ".py",
   "mimetype": "text/x-python",
   "name": "python",
   "nbconvert_exporter": "python",
   "pygments_lexer": "ipython3",
   "version": "3.10.9"
  }
 },
 "nbformat": 4,
 "nbformat_minor": 5
}
